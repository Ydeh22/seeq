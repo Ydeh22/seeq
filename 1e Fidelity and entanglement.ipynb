{
 "cells": [
  {
   "cell_type": "markdown",
   "metadata": {},
   "source": [
    "# Fidelity and entanglement"
   ]
  },
  {
   "cell_type": "markdown",
   "metadata": {},
   "source": [
    "## State fidelity"
   ]
  },
  {
   "cell_type": "markdown",
   "metadata": {},
   "source": [
    "The fidelity is a measure of how close two states are to each other. The general definition for density matrices is\n",
    "$${\\cal F}(\\rho_1,\\rho_2) = \\left[\\mathrm{tr}\\sqrt{\\sqrt{\\rho_1}\\rho_2\\sqrt{\\rho_1}}\\right]^2$$"
   ]
  },
  {
   "cell_type": "markdown",
   "metadata": {},
   "source": [
    "If both states are pure, $\\rho_i = |\\psi_i\\rangle\\langle\\psi_i|$ we can use $\\rho^{1/2}_i=\\rho_i$ to obtain\n",
    "$${\\cal F}(\\psi_1,\\psi_2) = \\left|\\langle\\psi_1|\\psi_2\\rangle\\right|^2.$$"
   ]
  },
  {
   "cell_type": "code",
   "execution_count": null,
   "metadata": {},
   "outputs": [],
   "source": [
    "# file: seeq/fidelity.py\n",
    "import numpy as np\n",
    "import scipy.linalg\n",
    "\n",
    "def state_fidelity(σ1, σ2, normalize=False):\n",
    "    \"\"\"Compute the fidelity between states σ1 and σ1, which may be either\n",
    "    vectors (pure states) or density matrices. Neither the states nor the\n",
    "    density matrices need be normalized.\"\"\"\n",
    "    if σ1.ndim == 2:\n",
    "        if normalize:\n",
    "            σ1 /= np.trace(σ1)\n",
    "        if σ2.ndim == 1:\n",
    "            #\n",
    "            # σ1 is a matrix, σ2 is a pure state\n",
    "            if normalize:\n",
    "                σ2 = σ2 / np.linalg.norm(σ2)\n",
    "            return abs(np.vdot(σ2, σ1 @ σ2))\n",
    "        elif σ2.ndim == 2:\n",
    "            if normalize:\n",
    "                σ2 /= np.trace(σ2)\n",
    "            #\n",
    "            # Both σ1 and σ2 are density matrices\n",
    "            #\n",
    "            λ1, U1 = scipy.linalg.eigh(σ1, overwrite_a=True)\n",
    "            sqrtσ1 = (U1 * np.sqrt(np.abs(λ1))) @ U1.T.conj()\n",
    "            λ, U = scipy.linalg.eigh(sqrtσ1 @ σ2 @ sqrtσ1, overwrite_a=True)\n",
    "            return np.sum(np.sqrt(np.abs(λ)))**2\n",
    "    elif σ2.ndim == 1:\n",
    "        #\n",
    "        # Both are pure states\n",
    "        F = abs(np.vdot(σ1, σ2))**2\n",
    "        if normalize:\n",
    "            return F / (np.linalg.norm(σ1)*np.linalg.norm(σ2))\n",
    "        else:\n",
    "            return F\n",
    "    elif σ2.ndim == 2:\n",
    "        #\n",
    "        # σ1 is a pure state, σ2 a density \n",
    "        if normalize:\n",
    "            σ2 /= np.trace(σ2)\n",
    "            σ1 = σ1 / np.linalg.norm(σ1)\n",
    "        return abs(np.vdot(σ1, σ2 @ σ1))\n",
    "    raise ValueException(f'state_fidelity() got neither a pure state nor a density matrix')"
   ]
  },
  {
   "cell_type": "markdown",
   "metadata": {},
   "source": [
    "## Average fidelity"
   ]
  },
  {
   "cell_type": "markdown",
   "metadata": {},
   "source": [
    "Following [M. A. Nielsen, Phys. Lett. A 303(4), 249-252 (2002)](https://doi.org/10.1016/S0375-9601(02)01272-0), if we have a positive map $\\mathcal{E}(\\rho),$ we quantify the average fidelity of this map as\n",
    "$$\\bar{F}[\\mathcal{E}] = \\int \\langle\\psi|\\mathcal{E}(|\\psi\\rangle\\langle\\psi|)|\\psi\\rangle \\mathrm{d}\\psi,$$\n",
    "where the integration happens over the uniform Haar measure over pure states $|\\psi\\rangle.$"
   ]
  },
  {
   "cell_type": "markdown",
   "metadata": {},
   "source": [
    "Similarly, there is the entanglement fidelity, defined as\n",
    "$$F_e[\\mathcal{E}] = \\langle\\phi|(\\mathbb{I}\\otimes \\mathcal{E})(|\\phi\\rangle\\langle\\phi|)|\\phi\\rangle,$$\n",
    "where $\\phi$ represents a maximally entangled state, such as\n",
    "$$|\\phi\\rangle = \\sum_{i=1}^d \\frac{1}{\\sqrt{d}}|i,i\\rangle,$$\n",
    "established over a duplicate $\\mathcal{H}\\otimes\\mathcal{H}$ of the Hilbert space on which $\\mathcal{E}$ is defined, with $d=\\mathrm{dim}\\mathcal{H}.$"
   ]
  },
  {
   "cell_type": "markdown",
   "metadata": {},
   "source": [
    "Both definitions of fidelity are related by Nielsen's formula\n",
    "$$\\bar{F} = \\frac{d F_e + 1}{d+1},$$\n",
    "implying that both fidelities coincide in the limit of infinitely large Hilbert spaces."
   ]
  },
  {
   "cell_type": "markdown",
   "metadata": {},
   "source": [
    "### a) Comparing unitaries"
   ]
  },
  {
   "cell_type": "markdown",
   "metadata": {},
   "source": [
    "If we care about unitaries and want to compare $U$ with the ideal $W,$ our map will be\n",
    "$$\\mathcal{E}(\\rho) = U^\\dagger W \\rho (U^\\dagger W)^\\dagger = E\\rho E^\\dagger.$$\n",
    "with the product $E=U^\\dagger W.$"
   ]
  },
  {
   "cell_type": "markdown",
   "metadata": {},
   "source": [
    "The entanglement fidelity becomes\n",
    "\\begin{eqnarray*}\n",
    "F_e[{\\cal E}] &=& \\frac{1}{d^2}\\sum_{ijkl}  \\langle{i,i}| \\left[ |j\\rangle\\langle{k}|\\otimes (E |j\\rangle\\langle{k}|E^\\dagger) \\right] |l,l\\rangle \\\\\n",
    "&=& \\frac{1}{d^2}\\sum_{jk} E_{jj} E_{kk}^* = \\frac{1}{d^2}\\left|\\mathrm{tr}(E)\\right|^2.\n",
    "\\end{eqnarray*}"
   ]
  },
  {
   "cell_type": "markdown",
   "metadata": {},
   "source": [
    "The entanglement fidelity becomes\n",
    "$$F_e[U,W]= \\frac{1}{d^2}\\left|\\mathrm{tr}(U W^\\dagger)\\right|^2.$$\n",
    "And according to Nielsen's work, the average fidelity becomes\n",
    "$$\\bar{F}[U,W] = \\frac{d F_e[U,W]+1}{d+1}.$$"
   ]
  },
  {
   "cell_type": "markdown",
   "metadata": {},
   "source": [
    "The formula for the average gate fidelity"
   ]
  },
  {
   "cell_type": "code",
   "execution_count": null,
   "metadata": {},
   "outputs": [],
   "source": [
    "# file: seeq/fidelity.py\n",
    "\n",
    "def avg_unitary_fidelity(U, W=None):\n",
    "    \"\"\"How close U is to W (which defaults to identiy)\"\"\"\n",
    "    if W is not None:\n",
    "        U = U * W.T.conj()\n",
    "    d = len(U)\n",
    "    Fe = np.abs(np.trace(U)/d)**2\n",
    "    F = (d*Fe+1)/(d+1)\n",
    "    return F"
   ]
  },
  {
   "cell_type": "markdown",
   "metadata": {},
   "source": [
    "### b) Comparing positive maps"
   ]
  },
  {
   "cell_type": "markdown",
   "metadata": {},
   "source": [
    "A more general case is one in which ${\\cal E}$ converts the states into density matrices, introducing decoherence. In that case, we can use a representation of ${\\cal E}$ as a linear superoperator from density matrices to density matrices.\n",
    "$${\\cal E}(\\rho)_{ij} = \\sum_{kl} {\\cal E}_{ij,kl} \\rho_{kl}$$"
   ]
  },
  {
   "cell_type": "markdown",
   "metadata": {},
   "source": [
    "The entanglement fidelity above now becomes\n",
    "\\begin{eqnarray*}\n",
    "F_e[{\\cal E}] &=& \\frac{1}{d^2}\\sum_{ijkl} \\langle{i,i}| \\left[|j\\rangle\\langle{k}|\\otimes {\\cal E}(|j\\rangle\\langle{k}|)\\right] |l,l\\rangle \\\\\n",
    "&=& \\frac{1}{d^2}\\sum_{i,l} \\langle{i}|{\\cal E}(|i\\rangle\\langle{l}|) |l\\rangle \\\\\n",
    "&=& \\frac{1}{d^2}\\sum_{i,l} {\\cal E}_{il,il}.\n",
    "\\end{eqnarray*}"
   ]
  },
  {
   "cell_type": "markdown",
   "metadata": {},
   "source": [
    "Note that for a unitary transformation, ${\\cal E}_{ij,kl}= U_{ik} U_{jl}^*$ and the formula reduces to the one above."
   ]
  },
  {
   "cell_type": "code",
   "execution_count": null,
   "metadata": {},
   "outputs": [],
   "source": [
    "# file: seeq/fidelity.py\n",
    "\n",
    "def avg_superoperator_fidelity(E):\n",
    "    \"\"\"Return the average fidelity of superoperator E, represented as a four\n",
    "    dimensional tensor with indices of size d, where 'd' is the size of the\n",
    "    Hilbert space.\"\"\"\n",
    "    if E.ndim == 4:\n",
    "        d = E.shape[0]\n",
    "        E = E.reshape(d*d,d*d)\n",
    "    else:\n",
    "        raise ValueException('Not a valid representation for a superoperator.')\n",
    "    Fe = abs(np.trace(E))/(d*d)\n",
    "    F = (d*Fe+1)/(d+1)\n",
    "    return F"
   ]
  },
  {
   "cell_type": "markdown",
   "metadata": {},
   "source": [
    "### c) Combined"
   ]
  },
  {
   "cell_type": "code",
   "execution_count": null,
   "metadata": {},
   "outputs": [],
   "source": [
    "# file: seeq/fidelity.py\n",
    "\n",
    "def avg_fidelity(T):\n",
    "    \"\"\"Return the average fidelity of a transformation T.\n",
    "    \n",
    "    Arguments\n",
    "    ---------\n",
    "    T  -- Either a 4 dimensional tensor, representing a positive map, or\n",
    "          a 2 dimensional tensor or matrix, representing a unitary operation.\n",
    "\n",
    "    Output\n",
    "    ------\n",
    "    F  -- A value in [0,1] representing the average fidelity.\n",
    "    \"\"\"\n",
    "    if T.ndim == 2:\n",
    "        return avg_unitary_fidelity(T)\n",
    "    elif T.ndim == 4:\n",
    "        return avg_superoperator_fidelity(T)\n",
    "    else:\n",
    "        raise ValueException('Not a valid superoperator or matrix.')"
   ]
  },
  {
   "cell_type": "markdown",
   "metadata": {},
   "source": [
    "## Leakage"
   ]
  },
  {
   "cell_type": "markdown",
   "metadata": {},
   "source": [
    "Qubits are usually implemented as a select subspace of a higher-dimensional object, such as a transmon qubit. Our set of states where we store information is called the computational subspace. When we study how to implement gates in such objects, we often find that there is a little probability that our information escapes the computational subspace."
   ]
  },
  {
   "cell_type": "markdown",
   "metadata": {},
   "source": [
    "In those cases, we usually compute a /scattering matrix/, which is the projection of the unitary evolution operator onto the computational subspace. Let us assume we have a subspace $V=\\mathrm{lin}\\{\\phi_i\\}$ defined with a basis of states $\\phi_i.$ We have computed the scattering matrix\n",
    "$$S_{ij} = \\langle \\phi_i| U(t)|\\phi_j\\rangle.$$\n",
    "In the ideal case, $S$ would become our desired quantum gate and $S_{ij} = U^{\\mathrm{ideal}}_{ij}.$ In many cases, however, there will be transitions to states outside $V$."
   ]
  },
  {
   "cell_type": "markdown",
   "metadata": {},
   "source": [
    "We wish to quantify the average probability that a state $\\xi\\in V$ escapes the Hilbert space. We define the leakage as the average of that probability for all basis states\n",
    "$$\\mathcal{L}[S] = \\frac{1}{d} \\sum_{i=1}^d (1-\\Vert U(t)\\phi_i\\Vert^2)=1 - \\frac{1}{d}\\mathrm{tr}(S^\\dagger S).$$"
   ]
  },
  {
   "cell_type": "markdown",
   "metadata": {},
   "source": [
    "If we work with positive maps, we can do something similar. We assume that we have a representation of the projected positive map, which only contains the components in the target basis\n",
    "$${\\cal E}_{ij,kl} = \\langle{i}|{\\cal E}(|k\\rangle\\langle{l}|)|j\\rangle, $$\n",
    "and estimate the leakage\n",
    "$${\\cal L}[{\\cal E}] = 1-\\frac{1}{d}\\sum_{i,k} {\\cal E}_{ii,kk}$$"
   ]
  },
  {
   "cell_type": "code",
   "execution_count": null,
   "metadata": {},
   "outputs": [],
   "source": [
    "# file: seeq/fidelity.py\n",
    "\n",
    "def leakage(S):\n",
    "    \"\"\"Compute the leakage outside the computational space, for a matrix\n",
    "    S that connects input and output states in the computational basis,\n",
    "    and which is in general not unitary.\"\"\"\n",
    "    if S.ndim == 2:\n",
    "        d = S.shape[0]\n",
    "        return np.abs(1 - np.vdot(S, S)/d)\n",
    "    elif S.ndim == 4:\n",
    "        d = S.shape[0]\n",
    "        return np.abs(1 - np.einsum('iijj', S)/d)\n",
    "    else:\n",
    "        raise ValueError('Not a valid unitary or positive map')"
   ]
  },
  {
   "cell_type": "markdown",
   "metadata": {},
   "source": [
    "## Fidelity without phases"
   ]
  },
  {
   "cell_type": "markdown",
   "metadata": {},
   "source": [
    "Sometimes we want to study transformations without phases that can be corrected. Other times, we want to separate local phases from nonlocal ones. The first routine extracts a diagonal operation that only contains phases relative to the first state."
   ]
  },
  {
   "cell_type": "code",
   "execution_count": null,
   "metadata": {},
   "outputs": [],
   "source": [
    "# file: seeq/fidelity.py\n",
    "\n",
    "def extract_phases(T):\n",
    "    \"\"\"Extract diagonal phases from a unitary operation or superoperator\"\"\"\n",
    "    if T.ndim == 2:\n",
    "        # Unitary operator\n",
    "        v = np.diag(T) / T[0,0]\n",
    "        v /= np.abs(v)\n",
    "        return np.diag(v)\n",
    "    elif T.ndim == 4:\n",
    "        # Superoperator\n",
    "        return extract_phases(T[:,0,:,0])\n",
    "    raise ValueError('Not a valid unitary or positive map.')"
   ]
  },
  {
   "cell_type": "markdown",
   "metadata": {},
   "source": [
    "With this, we can take a transformation and remove those phases."
   ]
  },
  {
   "cell_type": "code",
   "execution_count": null,
   "metadata": {},
   "outputs": [],
   "source": [
    "# file: seeq/fidelity.py\n",
    "\n",
    "def remove_phases(T):\n",
    "    \"\"\"Eliminate diagonal phases from a unitary operation or superoperator\"\"\"\n",
    "    inv = extract_phases(T).conj()\n",
    "    if T.ndim == 4:\n",
    "        d = inv.shape[0]\n",
    "        return np.einsum('ij,kl,jlmn', inv, inv.conj(), T)\n",
    "    return inv @ T"
   ]
  },
  {
   "cell_type": "markdown",
   "metadata": {},
   "source": [
    "This allows us to construct an average fidelity where those phases are removed. This average fidelity is very useful to study adiabatic processes where the dynamical phases are not relevant, but we want to understand how basis states are mapped to each other."
   ]
  },
  {
   "cell_type": "code",
   "execution_count": null,
   "metadata": {},
   "outputs": [],
   "source": [
    "# file: seeq/fidelity.py\n",
    "\n",
    "def avg_fidelity_no_phases(T):\n",
    "    return avg_fidelity(remove_phases(T))"
   ]
  }
 ],
 "metadata": {
  "kernelspec": {
   "display_name": "Python 3",
   "language": "python",
   "name": "python3"
  },
  "language_info": {
   "codemirror_mode": {
    "name": "ipython",
    "version": 3
   },
   "file_extension": ".py",
   "mimetype": "text/x-python",
   "name": "python",
   "nbconvert_exporter": "python",
   "pygments_lexer": "ipython3",
   "version": "3.7.6"
  }
 },
 "nbformat": 4,
 "nbformat_minor": 4
}

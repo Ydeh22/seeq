{
 "cells": [
  {
   "cell_type": "markdown",
   "metadata": {},
   "source": [
    "# Circuit-QED"
   ]
  },
  {
   "cell_type": "markdown",
   "metadata": {},
   "source": [
    "This notebook contains some useful models for superconducting circuit setups, such as charge qubits, flux qubits and combinations thereof."
   ]
  },
  {
   "cell_type": "code",
   "execution_count": null,
   "metadata": {},
   "outputs": [],
   "source": [
    "# file: seeq/models/cqed.py\n",
    "import numpy as np\n",
    "import scipy.sparse as sp\n",
    "from scipy.sparse.linalg import LinearOperator\n",
    "from seeq.tools import lowest_eigenstates, lowest_eigenvalues\n",
    "import copy"
   ]
  },
  {
   "cell_type": "markdown",
   "metadata": {},
   "source": [
    "## Transmon qubit"
   ]
  },
  {
   "cell_type": "markdown",
   "metadata": {},
   "source": [
    "### Effective model"
   ]
  },
  {
   "cell_type": "markdown",
   "metadata": {},
   "source": [
    "A charge qubit is a superconductiong circuit made of a capacitor and a Josephson junction (See Fig. a) below). The transmon is a variant of the charge qubit where the Josephson energy is much larger than the capacitive energy. This change makes the transmon less sensitive to charge and voltage fluctuations."
   ]
  },
  {
   "cell_type": "markdown",
   "metadata": {},
   "source": [
    "![Charge and transmon qubits, and equivalent circuit](figures/transmon.png)"
   ]
  },
  {
   "cell_type": "markdown",
   "metadata": {},
   "source": [
    "Following the image above, the Hamiltonian for the transmon qubit is\n",
    "$$\\hat{H}=\\frac{1}{2C_\\Sigma} (\\hat{q}-q_g)^2-E_J \\cos(\\hat{\\varphi})$$\n",
    "where $q_g=-C_g V$ is the equilibrium charge, $C_g$ is the control capacitance, $V$ the electric potential of the battery, $E_J$ the Josephson junction energy, and $C_\\Sigma$ the combined qubit and charging capacitance. $\\hat{q}$ is the charge operator of the Cooper pairs, and $\\hat{\\varphi}$ the flux operator."
   ]
  },
  {
   "cell_type": "markdown",
   "metadata": {},
   "source": [
    "We work with this Hamiltonian by introducing the charge number states\n",
    "$$\\hat{q} \\lvert n \\rangle = -2e n \\lvert n \\rangle, \\quad \\text{and} \\quad \\langle \\varphi \\lvert n \\rangle \\sim \\frac{1}{\\sqrt{2\\pi}} e^{-in\\varphi}$$"
   ]
  },
  {
   "cell_type": "markdown",
   "metadata": {},
   "source": [
    "Using the number basis we can represent $\\cos(\\hat{\\varphi})$ as\n",
    "$$\\cos(\\hat{\\varphi})=\\frac{1}{2}\\sum_{n\\in\\mathbb{Z}} \\lvert n+1\\rangle \\langle n\\rvert + \\vert n \\rangle \\langle n+1 \\rvert$$"
   ]
  },
  {
   "cell_type": "markdown",
   "metadata": {},
   "source": [
    "Then we can express the charge qubit Hamiltonian in the number representation as\n",
    "$$ H=\\sum_{n\\in\\mathbb{Z}} \\left[ 4 E_C (n-n_g)^2 \\lvert n\\rangle \\langle n\\rvert - \\frac{E_J}{2}(\\lvert n+1\\rangle \\langle n\\rvert + \\vert n \\rangle \\langle n+1 \\rvert)\\right]$$\n",
    "with the charging energy $E_C=e^2/2C_\\Sigma$."
   ]
  },
  {
   "cell_type": "markdown",
   "metadata": {},
   "source": [
    "This operator is an infinite-dimensional matrix\n",
    "$$H = \\left(\\begin{matrix}\n",
    "\\ldots & -E_J/2 & 4E_c(-1-n_g)^2 & -E_J/2 & 0 & \\ldots\\\\\n",
    "\\ldots & 0 & -E_J/2 & 4E_c(0-n_g)^2 & -E_J/2 & \\ldots\\\\\n",
    "\\ldots & 0 & 0 & -E_J/2 & 4E_c(+1-n_g)^2 & \\ldots\n",
    "\\end{matrix}\\right)$$\n",
    "but it can be truncated to a work in a limit $-n_{max}\\leq n \\leq n_{max},$ considering enough charge states as to provide a good approximation. In this case, we can write the model as\n",
    "$$H = 4 E_C (\\bar{N}-n_g)^2 - \\frac{1}{2}E_J (\\bar{S}^+ + \\bar{S}^-),$$\n",
    "with finite dimensional matrices $\\bar{N}$ for the number of charges, and charge raising and lowering operators $\\bar{S}^\\pm.$"
   ]
  },
  {
   "cell_type": "markdown",
   "metadata": {},
   "source": [
    "We can also introduce a model in which we have $M$ transmons interacting with each other capacitively. If we neglect the renormalization of the transmon capacitance, the effective model reads\n",
    "$$H = \\sum_i \\left[4 E_{C,i} (\\bar{N}_i-n_{g,i})^2 + \\frac{1}{2}E_{J,i}(\\bar{S}^+_i + \\bar{S}^-_i)\\right] + \\sum_{i\\neq j} g_{ij} \\bar{N}_i\\bar{N}_j.$$"
   ]
  },
  {
   "cell_type": "code",
   "execution_count": null,
   "metadata": {},
   "outputs": [],
   "source": [
    "# file: seeq/models/cqed.py\n",
    "\n",
    "class Transmons(LinearOperator):\n",
    "    \n",
    "    \"\"\"Transmons() implements one or more coupled transmons. This class\n",
    "    acts as a LinearOperator that implements the Hamiltonian. It can\n",
    "    also produce copies of itself with adjusted parameters. If a parameter\n",
    "    is a scalar, the same value is used for all qubits.\n",
    "    \n",
    "    Parameters\n",
    "    ----------\n",
    "    nqubits -- number of transmons\n",
    "    Ec      -- capacitive energy (defaults to 1/95.)\n",
    "    EJ      -- Josephson energy (defaults to 1.).\n",
    "    g       -- couplings (scalar or matrix)\n",
    "    ng      -- offset in number (defaults to 0)\n",
    "    nmax    -- cutoff in charge space (defaults to 8)\n",
    "    format  -- format of matrices (defaults to 'csr')\n",
    "    \"\"\"\n",
    "\n",
    "    def __init__(self, nqubits, Ec=1/95., EJ=1., g=0, ng=0, nmax=8, format='csr'):\n",
    "        self.nqubits = nqubits\n",
    "        self.Ec = Ec = Ec * np.ones(nqubits)\n",
    "        self.ng = ng = ng * np.ones(nqubits)\n",
    "        self.EJ = EJ = EJ * np.ones(nqubits)\n",
    "        assert len(Ec) == len(ng) == len(EJ) == nqubits\n",
    "        # Dimensions of one-qubit problem\n",
    "        dim = 2*nmax+1\n",
    "        # Dimension of operators and states for the full problem\n",
    "        fulldim = dim**nqubits\n",
    "        #\n",
    "        # This class inherits from LinearOperator because that implements\n",
    "        # useful multiplication operators.\n",
    "        super(Transmons,self).__init__(np.float64, (fulldim,fulldim))       \n",
    "        #\n",
    "        # Operators for one qubit\n",
    "        self.nmax = nmax\n",
    "        N = sp.diags(np.arange(-nmax, nmax + 1, 1), 0,\n",
    "                     shape=(dim, dim), format=format)\n",
    "        Sup = sp.diags([1.0], [1], shape=(dim,dim), format=format)\n",
    "        Sdo = Sup.T\n",
    "        #\n",
    "        # Extend an operator to act on the whole Hilbert space\n",
    "        def qubit_operator(op, j, N):\n",
    "            d = op.shape[0]\n",
    "            il = sp.eye(d**j, format=format)\n",
    "            ir = sp.eye(d**(N-j-1), format=format)\n",
    "            return sp.kron(il, sp.kron(op, ir))\n",
    "        #\n",
    "        # Local operators on all qubits:\n",
    "        #\n",
    "        self.N = [qubit_operator(N, j, nqubits) for j in range(nqubits)]\n",
    "        self.nmax = nmax\n",
    "        #\n",
    "        # Capacitive energy\n",
    "        Id = sp.eye(fulldim)\n",
    "        self.Hcap = sum((4.0*Ec) * (N-ng*Id)**2\n",
    "                        for ng, Ec, N in zip(ng, self.Ec, self.N))\n",
    "        #\n",
    "        # Inductive energy\n",
    "        self.HJJ = [qubit_operator((Sup+Sdo)/2., j, nqubits)\n",
    "                    for j, EJ in enumerate(self.EJ)]\n",
    "        #\n",
    "        # The interaction must be symmetric\n",
    "        g = g * np.ones((nqubits, nqubits))\n",
    "        self.g = (g + g.T)/2.0\n",
    "\n",
    "    def hamiltonian(self):\n",
    "        \"\"\"Return the Hamiltonian of this set of transmons.\"\"\"\n",
    "        return self.Hcap + \\\n",
    "            sum((-EJ) * hi for EJ, hi in zip(self.EJ,self.HJJ)) + \\\n",
    "            sum((2*self.g[i,j]) * (self.N[i] * self.N[j])\n",
    "                     for i in range(self.nqubits)\n",
    "                     for j in range(i)\n",
    "                     if self.g[i,j])\n",
    "            \n",
    "    def apply(self, ψ):\n",
    "        \"\"\"Act with the Hamiltonian of this set of transmons, onto\n",
    "        the state ψ.\"\"\"\n",
    "        g = self.g\n",
    "        N = self.N\n",
    "        return self.Hcap @ ψ \\\n",
    "            - sum(EJi * (hi @ ψ) for EJi, hi in zip(self.EJ,self.HJJ)) \\\n",
    "            + sum((2*g[i,j]) * (N[i] @ (N[j] @ ψ))\n",
    "                       for i in range(self.nqubits)\n",
    "                       for j in range(i)\n",
    "                       if g[i,j])\n",
    "\n",
    "    def _matvec(self, A):\n",
    "        return self.apply(A)\n",
    "\n",
    "    def _matmat(self, A):\n",
    "        return self.apply(A)\n",
    "\n",
    "    def tune(self, EJ=None, g=None):\n",
    "        \"\"\"Return a new Transmon with tuned parameters.\"\"\"\n",
    "        out = copy.copy(self)\n",
    "        if EJ is not None:\n",
    "            out.EJ = EJ * np.ones(self.nqubits)\n",
    "        if g is not None:\n",
    "            g = g * np.ones((self.nqubits,self.nqubits))\n",
    "            out.g = 0.5 * (g + g.T)\n",
    "        return out\n",
    "\n",
    "    def qubit_basis(self, which=None):\n",
    "        \"\"\"Return the computational basis for the transmons in the limit\n",
    "        of no coupling.\n",
    "        \n",
    "        Arguments:\n",
    "        ----------\n",
    "        which -- If None, return all 2**nqubits eigenstates. If it is\n",
    "                 an index, return the eigenstates for the n-th qubit.\n",
    "        \n",
    "        Returns:\n",
    "        --------\n",
    "        ψ     -- Matrix with columns for the computational basis states.\n",
    "        \"\"\"\n",
    "        nqubits = self.nqubits\n",
    "        if which is None:\n",
    "            basis = 1\n",
    "            for i in range(nqubits):\n",
    "                basis = np.kron(basis, self.qubit_basis(i))\n",
    "        else:\n",
    "            ti = Transmons(nqubits=1, Ec=self.Ec[which],\n",
    "                           EJ=self.EJ[which], nmax=self.nmax)\n",
    "            _, basis = lowest_eigenstates(ti, 2)\n",
    "        return basis\n",
    "    \n",
    "    def frequencies(self, n=1):\n",
    "        \"\"\"Return gaps between states 1, 2, ... n and the ground state\"\"\"\n",
    "        λ = lowest_eigenvalues(self, neig=n+1)\n",
    "        return tuple(λ[1:]-λ[0]) if n > 1 else λ[1]-λ[0]"
   ]
  },
  {
   "cell_type": "markdown",
   "metadata": {},
   "source": [
    "## Applications"
   ]
  },
  {
   "cell_type": "markdown",
   "metadata": {},
   "source": [
    "### a) Development of band-like structure"
   ]
  },
  {
   "cell_type": "markdown",
   "metadata": {},
   "source": [
    "We can plot the change of the spectrum as a function of the external potential. Notice how the sensitivity to the external field $n_g$ vanishes as we increase the ratio $E_J/E_c.$"
   ]
  },
  {
   "cell_type": "code",
   "execution_count": null,
   "metadata": {},
   "outputs": [],
   "source": [
    "%matplotlib inline\n",
    "import matplotlib.pyplot as plt\n",
    "\n",
    "def test():\n",
    "    ng = np.linspace(-1., 1., 21)\n",
    "    fig, (ax1, ax2, ax3) = plt.subplots(ncols=3, figsize=(10,3))\n",
    "    for (Ec, s, axi) in [(1.0, 'b--', ax1),\n",
    "                         (1/10., 'k-', ax2),\n",
    "                         (1/40., 'g-.', ax3)]:\n",
    "        λ = np.array([lowest_eigenvalues(Transmons(1, Ec, ng=n, EJ=1.), 3)\n",
    "                      for n in ng])\n",
    "        axi.plot(ng, λ[:,0], s, label=f'Ec={Ec}')\n",
    "        axi.plot(ng, λ[:,1:], s)\n",
    "        axi.set_xlabel('$n_g$')\n",
    "        axi.set_ylabel('$E/E_J$')\n",
    "        axi.set_title(f'$E_C={Ec}E_J$')\n",
    "    plt.tight_layout()\n",
    "    plt.show()\n",
    "    \n",
    "test()"
   ]
  },
  {
   "cell_type": "markdown",
   "metadata": {},
   "source": [
    "### b) Comparison with exact solutions "
   ]
  },
  {
   "cell_type": "markdown",
   "metadata": {},
   "source": [
    "A shown by [J. Koch et al, PRA 76, 042319 (2007)](https://doi.org/10.1103/PhysRevA.76.042319), the transmon eigenenergies are well approximated by the perturbative formulas\n",
    "$$E_n = -E_J + \\sqrt{8 E_c E_J}\\left(n +\\frac{1}{2}\\right) - \\frac{E_c}{12}(6n^2+6n+3).$$"
   ]
  },
  {
   "cell_type": "markdown",
   "metadata": {},
   "source": [
    "This implies that we also have an estimate of the absolute and relative anharmonicities:\n",
    "$$\\alpha = (E_2-E_1) - (E_1-E_0) = \\omega_{12} - \\omega_{01} = E_2 - 2E_1 + E_0 = -E_c.$$"
   ]
  },
  {
   "cell_type": "markdown",
   "metadata": {},
   "source": [
    "$$\\alpha_r = \\frac{\\alpha}{E_{01}} = -\\sqrt{\\frac{E_c}{8E_J}}.$$"
   ]
  },
  {
   "cell_type": "code",
   "execution_count": null,
   "metadata": {},
   "outputs": [],
   "source": [
    "%matplotlib inline\n",
    "import matplotlib.pyplot as plt\n",
    "import math\n",
    "\n",
    "def test():\n",
    "    EJEc = np.linspace(0.1, 140, 31)\n",
    "    Ec = 1.\n",
    "    E = np.array([lowest_eigenvalues(Transmons(1, Ec=Ec, EJ=Ec*EJEc, nmax=50), 3)\n",
    "                  for EJEc in EJEc])\n",
    "    n = np.arange(3)\n",
    "    Eth = np.array([-EJ + math.sqrt(8*EJ*Ec)*(0.5+n)-Ec*(6*n**2+6*n+3)/12\n",
    "                    for EJEc in EJEc\n",
    "                    for EJ in [Ec*EJEc]])\n",
    "    \n",
    "    αr = (E[:,2]+E[:,0]-2*E[:,1])/(E[:,1]-E[:,0])\n",
    "    αrth = -np.sqrt(1./(8*EJEc))\n",
    "\n",
    "    fig, (ax1,ax2) = plt.subplots(ncols=2,figsize=(9,3),gridspec_kw={'wspace':0.3})\n",
    "    ax1.plot(EJEc, E, 'r', label='eigenvalues')\n",
    "    ax1.plot(EJEc, Eth, 'k--', label='perturb.')\n",
    "    ax1.set_ylabel('$E$')\n",
    "    ax1.set_xlabel('$E/E_J$')\n",
    "    ax2.plot(EJEc, αr, 'r', label='eigenvalues')\n",
    "    ax2.plot(EJEc, αrth, 'k--', label='perturb.')\n",
    "    ax2.set_ylabel('$\\\\alpha_r$')\n",
    "    ax2.set_xlabel('$E/E_J$')\n",
    "    ax2.set_xlim([10,140])\n",
    "    ax2.set_ylim([-0.4,0.0])\n",
    "    plt.tight_layout()\n",
    "    plt.show()\n",
    "    \n",
    "test()"
   ]
  },
  {
   "cell_type": "markdown",
   "metadata": {},
   "source": [
    "### c) Fit qubits to experimental parameters"
   ]
  },
  {
   "cell_type": "markdown",
   "metadata": {},
   "source": [
    "If we know the qubit gap $\\omega_{01}$ and the anharmonicity $\\alpha,$ we can obtain the parameters of the transmon that reproduces those values."
   ]
  },
  {
   "cell_type": "code",
   "execution_count": null,
   "metadata": {},
   "outputs": [],
   "source": [
    "# file: seeq/models/cqed.py\n",
    "import scipy.optimize\n",
    "\n",
    "def fit_qubit(ω01, α, quiet=True, nmax=16, **kwdargs):\n",
    "    \"\"\"Compute a Transmons() object that is fitted to have the given\n",
    "    gap ω01 and anharmonicity α. Returns a Transmons() object.\"\"\"\n",
    "    def budget(x):\n",
    "        t = Transmons(1, Ec=x[0], EJ=x[1], nmax=nmax, **kwdargs)\n",
    "        ω01x, ω02x = t.frequencies(2)\n",
    "        αx = (ω02x - 2 * ω01x)\n",
    "        return [ω01x - ω01, α - αx]\n",
    "    \n",
    "    if ω01 < 0 or α > 0 or abs(α) > abs(ω01):\n",
    "        raise ValueError(f'Invalid transmon properties ω01={ω01}, α={α}')\n",
    "\n",
    "    αr = α/ω01\n",
    "    Ec = np.abs(α)\n",
    "    EJ = ω01**2/(8*Ec)\n",
    "    if not quiet:\n",
    "        print('Estimates:')\n",
    "        print(f'Ec    = {Ec}')\n",
    "        print(f'EJ    = {EJ}')\n",
    "        print(f'EJ/Ec = {1./(8*αr**2)} = {EJ/Ec}')\n",
    "\n",
    "    x = scipy.optimize.fsolve(budget, [Ec, EJ])\n",
    "    t = Transmons(1, Ec=x[0], EJ=x[1], nmax=nmax, **kwdargs)\n",
    "    t.α = α\n",
    "    t.ωq = ω01\n",
    "    ω01x, ω02x = t.frequencies(2)\n",
    "    if not quiet:\n",
    "        print('Computation:')\n",
    "        print(f'Ec    = {x[0]}')\n",
    "        print(f'EJ    = {x[1]}')\n",
    "        print(f'EJ/Ec = {x[1]/x[0]}')\n",
    "        print(f'ω01/2π= {ω01x/(2*π)}')\n",
    "        print(f'α/2π  = {(ω02x - 2 * ω01x)/(2*π)}')\n",
    "    return t"
   ]
  },
  {
   "cell_type": "code",
   "execution_count": null,
   "metadata": {},
   "outputs": [],
   "source": [
    "aux = fit_qubit(2*np.pi*5, 2*np.pi*-0.3)\n",
    "print(f'Transmon with ω01=5.0GHz, α=-300MHz\\nEJ = {aux.EJ[0]}\\nEc = {aux.Ec[0]}\\n'\n",
    "      f'frequencies = {aux.frequencies(2)}')"
   ]
  },
  {
   "cell_type": "markdown",
   "metadata": {},
   "source": [
    "### d) Tune a transmon's frequency"
   ]
  },
  {
   "cell_type": "markdown",
   "metadata": {},
   "source": [
    "Tuneable frequency transmons typically have a SQUID that allows us to change the Josephson energy. The following function finds out the new value of that Josephson energy so that the qubit has a new gap $\\omega_{01}.$ Note that tuning the $E_J$ may change the anharmonicity."
   ]
  },
  {
   "cell_type": "code",
   "execution_count": null,
   "metadata": {},
   "outputs": [],
   "source": [
    "# file: seeq/models/cqed.py\n",
    "\n",
    "def tune_qubit(t, ω01, which=0, quiet=True):\n",
    "    \"\"\"Create a new Transmons object where one of the qubits has a new\n",
    "    gap. This tuning is done by changing the Josephson energy of the qubit.\n",
    "    \n",
    "    Input:\n",
    "    t      -- a Transmons object\n",
    "    ω01    -- the new gap of one qubit\n",
    "    which  -- which qubit is tuned (default=0)\n",
    "    quiet  -- if False, print the output of the computation\n",
    "    \n",
    "    Output:\n",
    "    newt   -- a new Transmons object where the properties of one qubit\n",
    "              have been tuned.\n",
    "    \"\"\"\n",
    "    def budget(x):\n",
    "        EJ = t.EJ.copy()\n",
    "        EJ[which] = abs(x)\n",
    "        newt = t.tune(EJ=np.abs(x))\n",
    "        ω01x = newt.frequencies()\n",
    "        return ω01x - ω01\n",
    "    \n",
    "    x0 = ω01**2/(8.*t.Ec)\n",
    "    if not quiet:\n",
    "        print('Initial:')\n",
    "        print(f'Ec        = {t.Ec}')\n",
    "        print(f'EJ        = {t.EJ}')\n",
    "        print(f'EJ/Ec     = {t.EJ/t.Ec}')\n",
    "        print(f'ω01/(2*π) = {t.frequencies()/(2*np.pi)}')\n",
    "\n",
    "    x = scipy.optimize.root(budget, x0).x\n",
    "    EJ = t.EJ.copy()\n",
    "    EJ[which] = x\n",
    "    newt = t.tune(EJ=EJ)\n",
    "    if not quiet:\n",
    "        print('Final:')\n",
    "        print(f'EJ        = {EJ}')\n",
    "        print(f'ω01/(2*π) = {newt.frequencies()/(2*np.pi)}')\n",
    "    return newt"
   ]
  },
  {
   "cell_type": "code",
   "execution_count": null,
   "metadata": {},
   "outputs": [],
   "source": [
    "aux = fit_qubit(2*np.pi*5.0, 2*np.pi*-0.3)\n",
    "tune_qubit(aux, 2*np.pi*4.9, quiet=False)"
   ]
  }
 ],
 "metadata": {
  "kernelspec": {
   "display_name": "Python 3",
   "language": "python",
   "name": "python3"
  },
  "language_info": {
   "codemirror_mode": {
    "name": "ipython",
    "version": 3
   },
   "file_extension": ".py",
   "mimetype": "text/x-python",
   "name": "python",
   "nbconvert_exporter": "python",
   "pygments_lexer": "ipython3",
   "version": "3.7.6"
  },
  "toc": {
   "base_numbering": 1,
   "nav_menu": {},
   "number_sections": true,
   "sideBar": true,
   "skip_h1_title": false,
   "title_cell": "Table of Contents",
   "title_sidebar": "Contents",
   "toc_cell": false,
   "toc_position": {},
   "toc_section_display": true,
   "toc_window_display": true
  }
 },
 "nbformat": 4,
 "nbformat_minor": 4
}

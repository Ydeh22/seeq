{
 "cells": [
  {
   "cell_type": "markdown",
   "metadata": {},
   "source": [
    "# Master equations"
   ]
  },
  {
   "cell_type": "code",
   "execution_count": null,
   "metadata": {},
   "outputs": [],
   "source": [
    "# file: seeq/master.py\n",
    "import numpy as np\n",
    "import scipy.sparse as sp\n",
    "from scipy.sparse.linalg import LinearOperator\n",
    "import scipy.integrate"
   ]
  },
  {
   "cell_type": "markdown",
   "metadata": {},
   "source": [
    "## Superoperators and pseudo-states"
   ]
  },
  {
   "cell_type": "markdown",
   "metadata": {},
   "source": [
    "This module deals with the study of Markovian master equations\n",
    "$$i\\partial_t\\hat\\rho = L_t\\hat\\rho$$\n",
    "defined by a Lindblad superoperator that acts onto density matrices\n",
    "$$L_t\\hat\\rho = -i[H_t,\\hat\\rho] + \\sum_i \\gamma_i \\left[A_i \\hat\\rho B_i - \\frac{1}{2}(B_i A_i \\hat\\rho + \\hat\\rho B_i A_i)\\right].$$"
   ]
  },
  {
   "cell_type": "markdown",
   "metadata": {},
   "source": [
    "Our density matrices will be Hermitian operators defined on a finite-dimensional Hilbert space. Given an orthonormal basis of states $\\{|i\\rangle\\}_{i=1}^d,$ we can write\n",
    "$$\\hat\\rho = \\sum_{ij} \\rho_{ij} |i\\rangle\\langle j|.$$"
   ]
  },
  {
   "cell_type": "markdown",
   "metadata": {},
   "source": [
    "Since master equations are linear, it is convenient to think about the density matrices as elements in a vector space. In Quantum Optics it is customary to denote this as some pseudo-quantum-states living in a $\\mathbb{C}^{d\\times d}$ complex space\n",
    "$$|\\rho) := \\sum_{ij} \\rho_{ij} |i,j\\rangle =: \\sum_{r=1}^{d^2} \\bar{\\rho}_r |r)$$\n",
    "with\n",
    "$$\\bar{\\rho}_{id+j} := \\rho_{ij}.$$"
   ]
  },
  {
   "cell_type": "markdown",
   "metadata": {},
   "source": [
    "With this mapping, the Lindblad operator can be represented as a matrix.\n",
    "$$L\\hat \\rho \\to \\bar{L}\\bar{\\rho},$$\n",
    "with the superoperator matrix\n",
    "$$\\bar{L} = -i (H\\otimes \\mathbb{1} - \\mathbb{1} \\otimes H^T) + \\sum_i \\gamma_i \\left[A_i \\otimes B_i^T - \\frac{1}{2}(B_iA_i)\\otimes\\mathbb{1} - \\frac{1}{2}\\mathbb{1}\\otimes(B_iA_i)^T\\right].$$"
   ]
  },
  {
   "cell_type": "markdown",
   "metadata": {},
   "source": [
    "## Lindblad class"
   ]
  },
  {
   "cell_type": "markdown",
   "metadata": {},
   "source": [
    "We define a linear superoperator that acts on density matrices. It assumes a Lindblad operator structure, with a (possibly time-dependent) Hamiltonian and some constant dissipators."
   ]
  },
  {
   "cell_type": "code",
   "execution_count": null,
   "metadata": {},
   "outputs": [],
   "source": [
    "# file: seeq/master.py\n",
    "\n",
    "class Lindblad(LinearOperator):\n",
    "    \n",
    "    def __init__(self, H, dissipators=[], time=0.0, dimension=None):\n",
    "        if dimension is None:\n",
    "            if callable(H):\n",
    "                raise Exception('In Lindblad, you must provide a dimension of the Hilbert space')\n",
    "            dimension = H.shape[0]\n",
    "        super(Lindblad, self).__init__(np.complex128, (dimension**2,dimension**2))\n",
    "        self.Hamiltonian = H\n",
    "        self.dissipators = dissipators\n",
    "        self.dimension = dimension\n",
    "        self.ρshape = (dimension,dimension)\n",
    "        self.time = 0.0\n",
    "\n",
    "    def apply(self, t, ρ):\n",
    "        ρ = np.asarray(ρ)\n",
    "        flat = ρ.ndim == 1\n",
    "        if flat:\n",
    "            ρ = ρ.reshape(self.ρshape)\n",
    "        H = self.Hamiltonian\n",
    "        if callable(H):\n",
    "            Lρ = -1j * (H(t, ρ - H(t, ρ.conj().T).conj()))\n",
    "        else:\n",
    "            Lρ = -1j * (H @ ρ - ρ @ H)\n",
    "        for (γi, Ai, Bi) in self.dissipators:\n",
    "            Lρ += γi * (Ai @ ρ @ Bi - 0.5 * ((ρ @ Bi) @ Ai + Bi @ (Ai @ ρ)))\n",
    "        return Lρ.flatten() if flat else Lρ\n",
    "\n",
    "    def _matvec(self, ρ):\n",
    "        return self.apply(self.time, ρ)"
   ]
  },
  {
   "cell_type": "markdown",
   "metadata": {},
   "source": [
    "## Stationary state calculation"
   ]
  },
  {
   "cell_type": "markdown",
   "metadata": {},
   "source": [
    "We want to solve the eigenvalue equation\n",
    "$$L \\rho = \\lambda \\rho$$\n",
    "for the stationary case $\\lambda=0$. If we rewrite $\\rho$ as a complex vector $v_\\rho \\in \\mathbb{C}^{d^2}$ and $L$ as a sparse matrix in $\\mathbb{C}^{d^2\\times d^2}$\n",
    "$$L v_\\rho = \\lambda v_\\rho$$\n",
    "this equation has the following properties:\n",
    "\n",
    "* All eigenvalues have negative or zero real part, $\\mathrm{Re}(\\lambda)\\leq 0$, because the Lindblad operator is contractive.\n",
    "\n",
    "* Not all solutions of this equation are valid density matrices, that is, if we reshape the vector $v_\\rho$ into a density matrix form, it might not even be Hermitian. However, the Hermitian part of it, will satisfy the equation.\n",
    "\n",
    "The fact that the superoperator $L$ has a kernel complicates matter quite a bit. There are many strategies in the literature to solve for the stationary state $Lv_\\rho = 0$.\n",
    "\n",
    "* Use a reduce-invert method to compute the eigenvalue $\\lambda$ that is closest to a positive number $\\lambda_r > 0$. The idea is that $(L-\\lambda_r)$ will be a stable operator without zero eigenvalues and the quadratic form $(L-\\lambda_r)^\\dagger (L-\\lambda_r)$ has a minimum at the vector $v_\\rho$ that we seek. This method is implemented using Scipy's `eigs` routines.\n",
    "\n",
    "* If we know that the kernel of $L$ has dimension 1 (only one zero eigenvector), we can simultaneously solve the system of equations $$L\\rho = 0,~\\mathrm{and}~\\mathrm{tr}(\\rho)=1$$ One way to do that is to find two vectors: an $x$ such that $x^\\dagger v_\\rho = \\mathrm{tr}\\rho$, and a random vector $y$ such that we can introduce $A = L - y x^\\dagger$ and solve the system of equations $$(L - y x^\\dagger) v_\\rho = y.$$\n",
    "\n",
    "* Similar to the one above, but what we do is replace one row in $L$ with the vector $x$ such that $x^\\dagger v_\\rho = \\mathrm{tr}\\rho$ and solve $L' v_\\rho = y$, where $y$ is a vector of zeros except for the row in which $x$ was inserted."
   ]
  },
  {
   "cell_type": "code",
   "execution_count": null,
   "metadata": {},
   "outputs": [],
   "source": [
    "# file: seeq/master.py\n",
    "\n",
    "def stationary_state(L, guess=None, method='eigs', tol=10**(-8), maxiter=1000):\n",
    "    #\n",
    "    # Compute the stationary state of a master equation using a variety\n",
    "    # of methods:\n",
    "    #\n",
    "    #  - L : a Lindblad operator class that implements a method\n",
    "    #    L.Lindblad() that returns the Linbdlad superoperator in\n",
    "    #    matrix representation.\n",
    "    #\n",
    "    #  - guess : a guess for the density matrix. It may be either\n",
    "    #    a vector, representing a pure state, or a density matrix.\n",
    "    #\n",
    "    #  - method : which method use to solve the equation\n",
    "    #      SOLVE_EIGS = compute the zero-decay eigenstate of the\n",
    "    #                   Lindblad operator using Arpack\n",
    "    #\n",
    "    #  - observables: return a list of expected values over the\n",
    "    #    computed density matrix\n",
    "    #\n",
    "    d = L.dimension\n",
    "    \n",
    "    if guess is not None:\n",
    "        if guess.size == d:\n",
    "            # This is a pure state, make a density matrix\n",
    "            guess = np.reshape(guess, (d,1))\n",
    "            guess = guess @ guess.T.conjugate()\n",
    "            guess /= np.trace(guess)\n",
    "        guess = np.reshape(guess, (d*d,))\n",
    "\n",
    "    def replace(vρ):\n",
    "        #\n",
    "        # This internal function creates a linear system of\n",
    "        # equations that consists of 'd*d-1' rows corresponding\n",
    "        # to the lindblad operator plus one row corresponding\n",
    "        # to the trace of the density matrix. We have to solve\n",
    "        #        A * vρ = rhs\n",
    "        # where 'rhs' is zeros except for the row corresponding\n",
    "        # to the trace, which is '1'.\n",
    "        ρ = vρ.reshape(d,d)\n",
    "        Lvρ = (L @ ρ).flatten()\n",
    "        Lvρ[-1] = np.trace(ρ)\n",
    "        return Lvρ\n",
    "\n",
    "    if method == 'eigs':\n",
    "        #\n",
    "        # Compute one (k=1) eigenstate of the Lindblad operator which is\n",
    "        # closest to the eigenvalue sigma=1 Since all eigenvalues of the\n",
    "        # Lindblad operator have zero or negative real part, the closest\n",
    "        # one is exactly the zero eigenstate.\n",
    "        #\n",
    "        value, vρ = sp.linalg.eigs(L, k=1, maxiter=maxiter, tol=tol,\n",
    "                                   sigma=1, v0=guess)\n",
    "        vρ = vρ.flatten()\n",
    "    elif method == 'replace':\n",
    "        vρ, info = sp.linalg.bicgstab(LinearOperator(L.ρshape, matvec=replace), rhs)\n",
    "        if info > 0:\n",
    "            raise Exception('Problem did not converge')\n",
    "    else:\n",
    "        raise Exception(f'Unknown method \"{method}\" in master.stationary_state()')\n",
    "    #\n",
    "    # Normalize the density matrix. Since the system of equations is linear,\n",
    "    # any multiple of the solution is also a valid solution.\n",
    "    ρ = np.reshape(vρ, (d,d))\n",
    "    ρ /= np.trace(ρ)\n",
    "    #\n",
    "    # Even if we normalized, there may be some residual error and the\n",
    "    # matrix might not be completely Hermitian. We check both\n",
    "    Lvρ = L @ vρ\n",
    "    λ = np.vdot(vρ, Lvρ) / np.vdot(vρ, vρ)\n",
    "    ε = np.sum(np.abs(ρ - ρ.T.conjugate()))\n",
    "    return ρ, [λ, ε]"
   ]
  },
  {
   "cell_type": "markdown",
   "metadata": {},
   "source": [
    "## Examples"
   ]
  },
  {
   "cell_type": "markdown",
   "metadata": {},
   "source": [
    "### Simple cavity"
   ]
  },
  {
   "cell_type": "markdown",
   "metadata": {},
   "source": [
    "We create a trivial problem of a cavity with losses to test our ideas. The basic Hamiltonian is"
   ]
  },
  {
   "cell_type": "markdown",
   "metadata": {},
   "source": [
    "$$H = \\delta a^\\dagger a + \\Omega(a^\\dagger + a)$$"
   ]
  },
  {
   "cell_type": "markdown",
   "metadata": {},
   "source": [
    "This Hamiltonian is embedded in a master equation with losses:"
   ]
  },
  {
   "cell_type": "markdown",
   "metadata": {},
   "source": [
    "\\begin{eqnarray*}\n",
    "\\partial_t\\rho &=& -i [H,\\rho] + \\kappa \\mathcal{D}[a]\\rho\n",
    "\\end{eqnarray*}"
   ]
  },
  {
   "cell_type": "markdown",
   "metadata": {},
   "source": [
    "Here the Lindblad operators are defined as\n",
    "$$\\mathcal{D}[A]\\rho = A \\rho A^\\dagger - \\frac{1}{2}\\{A^\\dagger A, \\rho\\}$$"
   ]
  },
  {
   "cell_type": "code",
   "execution_count": null,
   "metadata": {},
   "outputs": [],
   "source": [
    "from seeq.operators import boson_anihilation, boson_creation, boson_number\n",
    "\n",
    "class Cavity(Lindblad):\n",
    "    def __init__(L, δ=0.0, Ω=1, κ=0.3, nMax=5):\n",
    "        #\n",
    "        # Simple cavity problem\n",
    "        #\n",
    "        L.δ = δ        # cavity detuning\n",
    "        L.Ω = Ω        # cavity driving Rabi frequency\n",
    "        L.nMax = nMax  # max. number of photons in cavity\n",
    "        L.κ = κ        # cavity decay\n",
    "        \n",
    "        # Fock space of the auxiliary \"qubit\" (second d.o.f of transmon)\n",
    "        #   a = anihilation operator\n",
    "        #   n = number operator\n",
    "        L.a = boson_anihilation(nMax)\n",
    "        L.adag = boson_creation(nMax)\n",
    "        L.n = boson_number(nMax)\n",
    "        super(Cavity, L).__init__(δ * L.n + Ω * (L.a + L.adag),\n",
    "                                  [(L.κ, L.a, L.adag)])\n",
    "\n",
    "    def vacuum(L):\n",
    "        #\n",
    "        # Return the vacuum state of the cavity with both qubits\n",
    "        # in their ground state. Outputs a state vector, from which\n",
    "        # a density matrix can be constructed\n",
    "        #\n",
    "        vac = np.zeros((L.dimension,))\n",
    "        vac[0]=1.0\n",
    "        return vac"
   ]
  },
  {
   "cell_type": "markdown",
   "metadata": {},
   "source": [
    "The master equation for observables\n",
    "$$\\partial_t\\langle{O}\\rangle = -i \\langle{[O,H]}\\rangle + \\frac{\\kappa}{2}\\langle{[a^\\dagger, O]a + a^\\dagger[O,a]}\\rangle$$"
   ]
  },
  {
   "cell_type": "markdown",
   "metadata": {},
   "source": [
    "can be particularized to two cases: (i) $O=a$\n",
    "$$\\partial_t\\langle{a}\\rangle = -i\\delta \\langle{a}\\rangle -i \\Omega -\\frac{\\kappa}{2}\\langle{a}\\rangle$$\n",
    "and (ii) the number operator\n",
    "$$\\partial_t\\langle{n}\\rangle = -i\\Omega\\langle{a^\\dagger-a}\\rangle -\\kappa\\langle{a^\\dagger a}\\rangle$$"
   ]
  },
  {
   "cell_type": "markdown",
   "metadata": {},
   "source": [
    "The stationary condition for the first equation\n",
    "$$0 = \\left(\\delta-i\\frac{\\kappa}{2}\\right)\\langle{a}\\rangle + \\Omega$$"
   ]
  },
  {
   "cell_type": "markdown",
   "metadata": {},
   "source": [
    "has as solution\n",
    "$$\\langle{a}\\rangle = \\frac{\\Omega}{i\\kappa/2 - \\delta}$$\n",
    "$$\\langle{a^\\dagger}\\rangle = \\frac{\\Omega}{-i\\kappa/2 - \\delta}$$"
   ]
  },
  {
   "cell_type": "markdown",
   "metadata": {},
   "source": [
    "Combined this gives\n",
    "$$\\langle{a^\\dagger - a}\\rangle = \\frac{i\\Omega\\kappa}{\\kappa^2/4+\\delta^2}$$"
   ]
  },
  {
   "cell_type": "markdown",
   "metadata": {},
   "source": [
    "and therefore\n",
    "$$\\langle{a^\\dagger a}\\rangle = -i\\frac{\\Omega}{\\kappa}\\langle{a^\\dagger - a}\\rangle = \\frac{\\Omega^2}{\\kappa^2/4 + \\delta^2}$$"
   ]
  },
  {
   "cell_type": "code",
   "execution_count": null,
   "metadata": {},
   "outputs": [],
   "source": [
    "%matplotlib inline\n",
    "import matplotlib.pyplot as plt\n",
    "\n",
    "def test_Cavity(δ=0.0, κ=0.3):\n",
    "    Ω = np.linspace(1e-3, 0.5)\n",
    "    a = Ω * 0.0\n",
    "    n = Ω * 0.0\n",
    "    λ = Ω * 0.0\n",
    "    ε = Ω * 0.0\n",
    "    for i in range(Ω.size):\n",
    "        L = Cavity(δ=δ, Ω=Ω[i], κ=κ, nMax = 10)\n",
    "        ρ, err = stationary_state(L, guess = L.vacuum(), method = 'eigs')\n",
    "        a[i] = abs(np.trace(L.a @ ρ))\n",
    "        n[i] = np.trace(L.n @ ρ).real\n",
    "        λ[i] = np.abs(err[0])\n",
    "        ε[i] = err[1]\n",
    "    fig, (ax1, ax2) = plt.subplots(nrows=1, ncols=2, figsize=(12,4))\n",
    "    ax1.plot(Ω, a, 'r', label='$\\\\langle{a}\\\\rangle$')\n",
    "    ax1.plot(Ω, np.abs(Ω/(0.5j*κ-δ)), 'r--', label='$\\\\langle{a}\\\\rangle$ theory')\n",
    "    ax1.plot(Ω, n, 'b', label='$\\\\langle{a^\\dagger a}\\\\rangle$')\n",
    "    ax1.plot(Ω, np.abs(Ω**2/((0.5*κ)**2+δ**2)), 'b-.', label='$\\\\langle{a^\\dagger a}\\\\rangle$ theory')\n",
    "    ax1.set_ylim([0,4])\n",
    "    ax1.legend()\n",
    "    ax1.set_xlabel('$\\\\Omega$')\n",
    "    ax2.plot(Ω, λ, label='$L$ eigenvalue')\n",
    "    ax2.plot(Ω, ε, label='non-Hermiticity')\n",
    "    ax2.legend()\n",
    "    ax2.set_xlabel('$\\\\Omega$')\n",
    "\n",
    "test_Cavity()"
   ]
  }
 ],
 "metadata": {
  "kernelspec": {
   "display_name": "Python 3",
   "language": "python",
   "name": "python3"
  },
  "language_info": {
   "codemirror_mode": {
    "name": "ipython",
    "version": 3
   },
   "file_extension": ".py",
   "mimetype": "text/x-python",
   "name": "python",
   "nbconvert_exporter": "python",
   "pygments_lexer": "ipython3",
   "version": "3.7.3"
  }
 },
 "nbformat": 4,
 "nbformat_minor": 4
}

{
 "cells": [
  {
   "cell_type": "markdown",
   "metadata": {},
   "source": [
    "# Circuit-QED"
   ]
  },
  {
   "cell_type": "markdown",
   "metadata": {},
   "source": [
    "This notebook contains some useful models for superconducting circuit setups, such as charge qubits, flux qubits and combinations thereof."
   ]
  },
  {
   "cell_type": "code",
   "execution_count": null,
   "metadata": {},
   "outputs": [],
   "source": [
    "# file: seeq/models/cqed.py\n",
    "import numpy as np\n",
    "import scipy.sparse as sp\n",
    "from scipy.sparse.linalg import LinearOperator\n",
    "from seeq.tools import lowest_eigenstates, lowest_eigenvalues"
   ]
  },
  {
   "cell_type": "markdown",
   "metadata": {},
   "source": [
    "## Transmon qubit"
   ]
  },
  {
   "cell_type": "markdown",
   "metadata": {},
   "source": [
    "### Effective model"
   ]
  },
  {
   "cell_type": "markdown",
   "metadata": {},
   "source": [
    "A charge qubit is a superconductiong circuit made of a capacitor and a Josephson junction (See Fig. a) below). The transmon is a variant of the charge qubit where the Josephson energy is much larger than the capacitive energy. This change makes the transmon less sensitive to charge and voltage fluctuations."
   ]
  },
  {
   "cell_type": "markdown",
   "metadata": {},
   "source": [
    "![Charge and transmon qubits, and equivalent circuit](figures/transmon.png)"
   ]
  },
  {
   "cell_type": "markdown",
   "metadata": {},
   "source": [
    "Following the image above, the Hamiltonian for the transmon qubit is\n",
    "$$\\hat{H}=\\frac{1}{2C_\\Sigma} (\\hat{q}-q_g)^2-E_J \\cos(\\hat{\\varphi})$$\n",
    "where $q_g=-C_g V$ is the equilibrium charge, $C_g$ is the control capacitance, $V$ the electric potential of the battery, $E_J$ the Josephson junction energy, and $C_\\Sigma$ the combined qubit and charging capacitance. $\\hat{q}$ is the charge operator of the Cooper pairs, and $\\hat{\\varphi}$ the flux operator."
   ]
  },
  {
   "cell_type": "markdown",
   "metadata": {},
   "source": [
    "We work with this Hamiltonian by introducing the charge number states\n",
    "$$\\hat{q} \\lvert n \\rangle = -2e n \\lvert n \\rangle, \\quad \\text{and} \\quad \\langle \\varphi \\lvert n \\rangle \\sim \\frac{1}{\\sqrt{2\\pi}} e^{-in\\varphi}$$"
   ]
  },
  {
   "cell_type": "markdown",
   "metadata": {},
   "source": [
    "Using the number basis we can represent $\\cos(\\hat{\\varphi})$ as\n",
    "$$\\cos(\\hat{\\varphi})=\\frac{1}{2}\\sum_{n\\in\\mathbb{Z}} \\lvert n+1\\rangle \\langle n\\rvert + \\vert n \\rangle \\langle n+1 \\rvert$$"
   ]
  },
  {
   "cell_type": "markdown",
   "metadata": {},
   "source": [
    "Then we can express the charge qubit Hamiltonian in the number representation as\n",
    "$$ H=\\sum_{n\\in\\mathbb{Z}} \\left[ 4 E_C (n-n_g)^2 \\lvert n\\rangle \\langle n\\rvert - \\frac{E_J}{2}(\\lvert n+1\\rangle \\langle n\\rvert + \\vert n \\rangle \\langle n+1 \\rvert)\\right]$$\n",
    "with the charging energy $E_C=e^2/2C_\\Sigma$."
   ]
  },
  {
   "cell_type": "markdown",
   "metadata": {},
   "source": [
    "This operator is an infinite-dimensional matrix\n",
    "$$H = \\left(\\begin{matrix}\n",
    "\\ldots & -E_J/2 & 4E_c(-1-n_g)^2 & -E_J/2 & 0 & \\ldots\\\\\n",
    "\\ldots & 0 & -E_J/2 & 4E_c(0-n_g)^2 & -E_J/2 & \\ldots\\\\\n",
    "\\ldots & 0 & 0 & -E_J/2 & 4E_c(+1-n_g)^2 & \\ldots\n",
    "\\end{matrix}\\right)$$\n",
    "but it can be truncated to a work in a limit $-n_{max}\\leq n \\leq n_{max},$ considering enough charge states as to provide a good approximation. In this case, we can write the model as\n",
    "$$H = 4 E_C (\\bar{N}-n_g)^2 - \\frac{1}{2}E_J (\\bar{S}^+ + \\bar{S}^-),$$\n",
    "with finite dimensional matrices $\\bar{N}$ for the number of charges, and charge raising and lowering operators $\\bar{S}^\\pm.$"
   ]
  },
  {
   "cell_type": "markdown",
   "metadata": {},
   "source": [
    "We can also introduce a model in which we have $M$ transmons interacting with each other capacitively. If we neglect the renormalization of the transmon capacitance, the effective model reads\n",
    "$$H = \\sum_i \\left[4 E_{C,i} (\\bar{N}_i-n_{g,i})^2 + \\frac{1}{2}E_{J,i}(\\bar{S}^+_i + \\bar{S}^-_i)\\right] + \\sum_{i\\neq j} g_{ij} \\bar{N}_i\\bar{N}_j.$$"
   ]
  },
  {
   "cell_type": "code",
   "execution_count": null,
   "metadata": {},
   "outputs": [],
   "source": [
    "# file: seeq/models/cqed.py\n",
    "\n",
    "class Transmons(LinearOperator):\n",
    "    \n",
    "    \"\"\"Transmons() implements one or more coupled transmons. This class\n",
    "    acts as a LinearOperator that implements the Hamiltonian. It can\n",
    "    also produce copies of itself with adjusted parameters. If a parameter\n",
    "    is a scalar, the same value is used for all qubits.\n",
    "    \n",
    "    Parameters\n",
    "    ----------\n",
    "    nqubits -- number of transmons\n",
    "    Ec      -- capacitive energy (defaults to 1/95.)\n",
    "    EJ      -- Josephson energy (defaults to 1.).\n",
    "    g       -- couplings (scalar or matrix)\n",
    "    ng      -- offset in number (defaults to 0)\n",
    "    nmax    -- cutoff in charge space (defaults to 8)\n",
    "    format  -- format of matrices (defaults to 'csr')\n",
    "    \"\"\"\n",
    "\n",
    "    def __init__(self, nqubits, Ec=1/95., EJ=1., g=0, ng=0, nmax=8, format='csr'):\n",
    "        self.nqubits = nqubits\n",
    "\n",
    "        # Dimensions of one-qubit problem\n",
    "        dim = 2*nmax+1\n",
    "        # Dimension of operators and states for the full problem\n",
    "        fulldim = dim**nqubits\n",
    "        #\n",
    "        # This class inherits from LinearOperator because that implements\n",
    "        # useful multiplication operators.\n",
    "        super(Transmons,self).__init__(np.float64, (fulldim,fulldim))       \n",
    "        #\n",
    "        # Operators for one qubit\n",
    "        self.nmax = nmax\n",
    "        N = sp.diags(np.arange(-nmax, nmax + 1, 1), 0,\n",
    "                     shape=(dim, dim), format=format)\n",
    "        Sup = sp.diags([1.0], [1], shape=(dim,dim), format=format)\n",
    "        Sdo = Sup.T\n",
    "        #\n",
    "        # Extend an operator to act on the whole Hilbert space\n",
    "        def qubit_operator(op, j, N):\n",
    "            d = op.shape[0]\n",
    "            il = sp.eye(d**j, format=format)\n",
    "            ir = sp.eye(d**(N-j-1), format=format)\n",
    "            return sp.kron(il, sp.kron(op, ir))\n",
    "        #\n",
    "        # Local operators on all qubits:\n",
    "        #\n",
    "        self.N = [qubit_operator(N, j, nqubits) for j in range(nqubits)]\n",
    "        self.nmax = nmax\n",
    "        #\n",
    "        # Capacitive energy\n",
    "        self.Ec = Ec = Ec * np.ones(nqubits)\n",
    "        self.ng = ng = ng * np.ones(nqubits)\n",
    "        Id = sp.eye(fulldim)\n",
    "        self.Hcap = sum((4.0*Ec) * (N-ng*Id)**2\n",
    "                        for ng, Ec, N in zip(ng, self.Ec, self.N))\n",
    "        #\n",
    "        # Inductive energy\n",
    "        self.EJ = EJ = EJ * np.ones(nqubits)\n",
    "        self.HJJ = [EJ * qubit_operator((Sup+Sdo)/2., j, nqubits)\n",
    "                     for j, EJ in enumerate(self.EJ)]\n",
    "        #\n",
    "        # The interaction must be symmetric\n",
    "        g = g * np.ones((nqubits, nqubits))\n",
    "        self.g = g = (g + g.T)/2.0\n",
    "        self.Hint = sum((2.0 * g[i,j]) * (self.N[i] * self.N[j])\n",
    "                         for i in range(self.nqubits)\n",
    "                         for j in range(i)\n",
    "                         if g[i,j])\n",
    "\n",
    "    def _normalize_EJ(self, EJ):\n",
    "        return self.EJ if EJ is None else EJ * np.ones(self.nqubits)\n",
    "\n",
    "    def hamiltonian(self, EJ=None, gfactor=1.):\n",
    "        \"\"\"Return the Hamiltonian of this set of transmons, possibly\n",
    "        changing the Josephson energies or rescaling the couplings.\n",
    "        \n",
    "        Arguments:\n",
    "        ----------\n",
    "        EJ      -- A scalar or a vector of Josephson energies, or\n",
    "                   None if we use the default values.\n",
    "        gfactor -- Multiplicative factor on the interaction term.\n",
    "        \"\"\"\n",
    "        EJ = self._normalize_EJ(EJ)\n",
    "        return sum((-EJ) * hi for EJ, hi in zip(EJ,self.HJJ)) + \\\n",
    "                self.Hcap + gfactor * self.Hint\n",
    "\n",
    "    def apply(self, ψ, EJ=None, gfactor=1.):\n",
    "        \"\"\"Act with the Hamiltonian of this set of transmons, onto\n",
    "        the state ψ. Arguments are the same as for hamiltonian().\n",
    "        \"\"\"\n",
    "        EJ = self._normalize_EJ(EJ)\n",
    "        out = self.Hcap @ ψ - sum(EJi * (hi @ ψ) for EJi, hi in zip(EJ,self.HJJ))\n",
    "        if gfactor and self.Hint is not 0:\n",
    "            out += gfactor * (self.Hint @ ψ)\n",
    "        return out\n",
    "\n",
    "    def _matvec(self, A):\n",
    "        return self.apply(A)\n",
    "\n",
    "    def qubit_basis(self, EJ=None, which=None):\n",
    "        \"\"\"Return the computational basis for the transmons in the limit\n",
    "        of no coupling.\n",
    "        \n",
    "        Arguments:\n",
    "        ----------\n",
    "        which -- If None, return all 2**nqubits eigenstates. If it is\n",
    "                 an index, return the eigenstates for the n-th qubit.\n",
    "        EJ    -- Josephson energy (or None, for the default values)\n",
    "        \n",
    "        Returns:\n",
    "        --------\n",
    "        ψ     -- Matrix with columns for the computational basis states.\n",
    "        \"\"\"\n",
    "        nqubits = self.nqubits\n",
    "        EJ = self._normalize_EJ(EJ)\n",
    "        if which is None:\n",
    "            basis = 1\n",
    "            for i in range(nqubits):\n",
    "                basis = np.kron(basis, self.qubit_basis(ϵ, i))\n",
    "        else:\n",
    "            ti = Transmons(nqubits=1, Ec=self.Ec[i], nmax=self.nmax)\n",
    "            _, basis = ti.eigenstates(2, EJ=self.EJ[i])\n",
    "        return basis"
   ]
  },
  {
   "cell_type": "markdown",
   "metadata": {},
   "source": [
    "We can plot the change of the spectrum as a function of the external potential. Notice how the sensitivity to the external field $n_g$ vanishes as we increase the ratio $E_J/E_c.$"
   ]
  },
  {
   "cell_type": "code",
   "execution_count": null,
   "metadata": {},
   "outputs": [],
   "source": [
    "%matplotlib inline\n",
    "import matplotlib.pyplot as plt\n",
    "\n",
    "def test():\n",
    "    ng = np.linspace(-1., 1., 21)\n",
    "    fig, (ax1, ax2, ax3) = plt.subplots(ncols=3, figsize=(10,3))\n",
    "    for (Ec, s, axi) in [(1.0, 'b--', ax1),\n",
    "                         (1/10., 'k-', ax2),\n",
    "                         (1/40., 'g-.', ax3)]:\n",
    "        λ = np.array([lowest_eigenvalues(Transmons(1, Ec, ng=n, EJ=1.), 3)\n",
    "                      for n in ng])\n",
    "        axi.plot(ng, λ[:,0], s, label=f'Ec={Ec}')\n",
    "        axi.plot(ng, λ[:,1:], s)\n",
    "        axi.set_xlabel('$n_g$')\n",
    "        axi.set_ylabel('$E/E_J$')\n",
    "        axi.set_title(f'$E_C={Ec}E_J$')\n",
    "    plt.show()\n",
    "    \n",
    "test()"
   ]
  }
 ],
 "metadata": {
  "kernelspec": {
   "display_name": "Python 3",
   "language": "python",
   "name": "python3"
  },
  "language_info": {
   "codemirror_mode": {
    "name": "ipython",
    "version": 3
   },
   "file_extension": ".py",
   "mimetype": "text/x-python",
   "name": "python",
   "nbconvert_exporter": "python",
   "pygments_lexer": "ipython3",
   "version": "3.7.3"
  }
 },
 "nbformat": 4,
 "nbformat_minor": 4
}

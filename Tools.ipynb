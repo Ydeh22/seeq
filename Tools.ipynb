{
 "cells": [
  {
   "cell_type": "markdown",
   "metadata": {},
   "source": [
    "# Tools"
   ]
  },
  {
   "cell_type": "markdown",
   "metadata": {},
   "source": [
    "Various utilities that are used in different points of the library."
   ]
  },
  {
   "cell_type": "code",
   "execution_count": null,
   "metadata": {},
   "outputs": [],
   "source": [
    "# file: seeq/tools.py\n",
    "import numpy as np\n",
    "import scipy.sparse as sp"
   ]
  },
  {
   "cell_type": "markdown",
   "metadata": {},
   "source": [
    "## Hamiltonian diagonalization"
   ]
  },
  {
   "cell_type": "code",
   "execution_count": null,
   "metadata": {},
   "outputs": [],
   "source": [
    "# file: seeq/tools.py\n",
    "\n",
    "def lowest_eigenstates(H, neig):\n",
    "    \"\"\"Compute the lowest eigenstates of the Hamiltonian H.\n",
    "    \n",
    "    Arguments:\n",
    "    ----------\n",
    "    neig -- An integer denoting the number of lowest energy eigenstates\n",
    "            to compute, or a list of numbers denoting the eigenstates\n",
    "            to select (e.g. [0, 3, 5] for the ground state, 3rd excited, etc)\n",
    "    Returns:\n",
    "    --------\n",
    "    λ    -- The eigenergies, sorted\n",
    "    ψ    -- The corresponding eigenstates, as columns of this matrix.\n",
    "    \"\"\"\n",
    "    λ, ψ = sp.linalg.eigsh(H, neig, which='SA', return_eigenvectors=True)\n",
    "    ndx = np.argsort(λ)\n",
    "    return λ[ndx], ψ[:,ndx]"
   ]
  },
  {
   "cell_type": "code",
   "execution_count": null,
   "metadata": {},
   "outputs": [],
   "source": [
    "# file: seeq/tools.py\n",
    "\n",
    "def lowest_eigenvalues(H, neig):\n",
    "    \"\"\"Compute the lowest eigenstates of the Hamiltonian H.\n",
    "    \n",
    "    Arguments:\n",
    "    ----------\n",
    "    neig -- An integer denoting the number of lowest energy eigenstates\n",
    "            to compute, or a list of numbers denoting the eigenstates\n",
    "            to select (e.g. [0, 3, 5] for the ground state, 3rd excited, etc)\n",
    "    Returns:\n",
    "    --------\n",
    "    λ    -- The eigenergies, sorted\n",
    "    \"\"\"\n",
    "    λ = sp.linalg.eigsh(H, neig, which='SA', return_eigenvectors=False)\n",
    "    return np.sort(λ)"
   ]
  }
 ],
 "metadata": {
  "kernelspec": {
   "display_name": "Python 3",
   "language": "python",
   "name": "python3"
  },
  "language_info": {
   "codemirror_mode": {
    "name": "ipython",
    "version": 3
   },
   "file_extension": ".py",
   "mimetype": "text/x-python",
   "name": "python",
   "nbconvert_exporter": "python",
   "pygments_lexer": "ipython3",
   "version": "3.7.3"
  }
 },
 "nbformat": 4,
 "nbformat_minor": 4
}

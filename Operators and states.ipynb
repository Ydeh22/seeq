{
 "cells": [
  {
   "cell_type": "markdown",
   "metadata": {},
   "source": [
    "# Operators and states"
   ]
  },
  {
   "cell_type": "code",
   "execution_count": 4,
   "metadata": {},
   "outputs": [],
   "source": [
    "# file: seeq/operators.py\n",
    "import numpy as np\n",
    "import scipy.sparse as sp"
   ]
  },
  {
   "cell_type": "markdown",
   "metadata": {},
   "source": [
    "## Spin models"
   ]
  },
  {
   "cell_type": "code",
   "execution_count": 5,
   "metadata": {},
   "outputs": [],
   "source": [
    "# file: seeq/operators.py\n",
    "\n",
    "σx = sp.csr_matrix([[0.0,1.0],[1.0,0.0]])\n",
    "σz = sp.csr_matrix([[1.0,0.0],[0.0,-1.0]])\n",
    "σy = sp.csr_matrix([[0.0,-1.j],[1.j,0.0]])"
   ]
  },
  {
   "cell_type": "markdown",
   "metadata": {},
   "source": [
    "## Fock operators"
   ]
  },
  {
   "cell_type": "code",
   "execution_count": 6,
   "metadata": {},
   "outputs": [],
   "source": [
    "# file: seeq/operators.py\n",
    "\n",
    "def boson_creation(nmax, format='csr'):\n",
    "    ad = np.sqrt(np.arange(1., nmax))\n",
    "    if format == 'dense':\n",
    "        return np.diag(ad, -1)\n",
    "    else:\n",
    "        return sp.diags(ad, -1, format=format)"
   ]
  },
  {
   "cell_type": "code",
   "execution_count": 33,
   "metadata": {},
   "outputs": [],
   "source": [
    "# file: seeq/operators.py\n",
    "\n",
    "def boson_anihilation(nmax, format='csr'):\n",
    "    a = np.sqrt(np.arange(1., nmax))\n",
    "    if format == 'dense':\n",
    "        return np.diag(a, +1)\n",
    "    else:\n",
    "        return sp.diags(a, +1, format=format)"
   ]
  },
  {
   "cell_type": "code",
   "execution_count": 8,
   "metadata": {},
   "outputs": [],
   "source": [
    "# file: seeq/operators.py\n",
    "\n",
    "def boson_number(nmax, format='csr'):\n",
    "    n = np.arange(0., nmax)\n",
    "    if format == 'dense':\n",
    "        return np.diag(0, +1)\n",
    "    else:\n",
    "        return sp.diags(n, 0, format=format)"
   ]
  },
  {
   "cell_type": "markdown",
   "metadata": {},
   "source": [
    "## Tests"
   ]
  },
  {
   "cell_type": "code",
   "execution_count": null,
   "metadata": {},
   "outputs": [],
   "source": [
    "# file: seeq/test/test_parametric_control.py\n",
    "\n",
    "import numpy as np\n",
    "import scipy.sparse as sp\n",
    "from seeq.states import *"
   ]
  },
  {
   "cell_type": "code",
   "execution_count": 15,
   "metadata": {},
   "outputs": [],
   "source": [
    "import numpy as np\n",
    "import scipy.sparse as sp\n"
   ]
  },
  {
   "cell_type": "code",
   "execution_count": 44,
   "metadata": {},
   "outputs": [],
   "source": [
    "# file: seeq/test/test_operators.py\n",
    "\n",
    "import unittest\n",
    "\n",
    "class TestOperators(unittest.TestCase):\n",
    "    \n",
    "    @staticmethod\n",
    "    def commute(x, y):\n",
    "        return x @ y - y @ x\n",
    "    \n",
    "    def assertEqualMatrix(self, a, b):\n",
    "        if sp.issparse(a):\n",
    "            a = a.todense()\n",
    "        if sp.issparse(b):\n",
    "            b = b.todense()\n",
    "        if (a.s)\n",
    "        if (a == b).all():\n",
    "            return True\n",
    "        raise self.failureException(f'Matrices not equal:\\na={a}\\nb={b}')\n",
    "\n",
    "    def test_commutation_Pauli(self):\n",
    "        \"\"\"For a qubit to remain the same, we do nothing.\"\"\"\n",
    "        for (a, b, c) in [(σx, σy, 2.j*σz)]:\n",
    "            self.assertEqualMatrix(self.commute(σx, σy), 2j*σz)\n",
    "            self.assertEqualMatrix(self.commute(σy, σz), 2j*σx)\n",
    "            self.assertEqualMatrix(self.commute(σz, σx), 2j*σy)\n",
    "\n",
    "    def test_boson_creation(self):\n",
    "        \"\"\"For a qubit to remain the same, we do nothing.\"\"\"\n",
    "        a2 = np.array([[0,1.0],\n",
    "                       [0,0]])\n",
    "        n2 = np.array([[0,0],[0,1]])\n",
    "        self.assertEqualMatrix(boson_creation(2), a2.T)\n",
    "        self.assertEqualMatrix(boson_anihilation(2), a2)\n",
    "        self.assertEqualMatrix(boson_number(2), n2)\n",
    "        \n",
    "        a3 = np.array([[0,1.0,0],\n",
    "                       [0,0,np.sqrt(2.)],\n",
    "                       [0,0,0]])\n",
    "        n3 = np.array([[0,0,0],[0,1.,0],[0,0,2.]])\n",
    "        self.assertEqualMatrix(boson_creation(3), a3.T)\n",
    "        self.assertEqualMatrix(boson_anihilation(3), a3)\n",
    "        self.assertEqualMatrix(boson_number(3), n3)\n",
    "        \n",
    "        a4 = np.array([[0,1.0,0,0],\n",
    "                       [0,0,np.sqrt(2.),0],\n",
    "                       [0,0,0,np.sqrt(3.)],\n",
    "                       [0,0,0,0]])\n",
    "        n4 = np.array([[0,0,0,0],[0,1.,0,0],[0,0,2.,0],[0,0,0,3.]])\n",
    "        self.assertEqualMatrix(boson_creation(4), a4.T)\n",
    "        self.assertEqualMatrix(boson_anihilation(4), a4)\n",
    "        self.assertEqualMatrix(boson_number(4), n4)"
   ]
  },
  {
   "cell_type": "code",
   "execution_count": 45,
   "metadata": {},
   "outputs": [
    {
     "name": "stderr",
     "output_type": "stream",
     "text": [
      "test_boson_creation (__main__.TestOperators)\n",
      "For a qubit to remain the same, we do nothing. ... C:\\Users\\JuanJose\\Miniconda3\\lib\\site-packages\\ipykernel_launcher.py:18: DeprecationWarning: elementwise comparison failed; this will raise an error in the future.\n",
      "C:\\Users\\JuanJose\\Miniconda3\\lib\\site-packages\\ipykernel_launcher.py:19: DeprecationWarning: elementwise comparison failed; this will raise an error in the future.\n",
      "ERROR\n",
      "test_commutation_Pauli (__main__.TestOperators)\n",
      "For a qubit to remain the same, we do nothing. ... "
     ]
    },
    {
     "name": "stdout",
     "output_type": "stream",
     "text": [
      "[[0. 0.]\n",
      " [1. 0.]]\n",
      "[[0. 0.]\n",
      " [1. 0.]]\n",
      "[[ True  True]\n",
      " [ True  True]]\n",
      "[[0. 1.]\n",
      " [0. 0.]]\n",
      "[[0. 1.]\n",
      " [0. 0.]]\n",
      "[[ True  True]\n",
      " [ True  True]]\n",
      "[[0. 0.]\n",
      " [0. 1.]]\n",
      "[[0 0]\n",
      " [0 1]]\n",
      "[[ True  True]\n",
      " [ True  True]]\n",
      "[[0.         0.         0.        ]\n",
      " [1.         0.         0.        ]\n",
      " [0.         1.41421356 0.        ]]\n",
      "[[0.         0.         0.        ]\n",
      " [1.         0.         0.        ]\n",
      " [0.         1.41421356 0.        ]]\n",
      "[[ True  True  True]\n",
      " [ True  True  True]\n",
      " [ True  True  True]]\n",
      "[[0.         1.         0.        ]\n",
      " [0.         0.         1.41421356]\n",
      " [0.         0.         0.        ]]\n",
      "[[0.         1.         0.        ]\n",
      " [0.         0.         1.41421356]\n",
      " [0.         0.         0.        ]]\n",
      "[[ True  True  True]\n",
      " [ True  True  True]\n",
      " [ True  True  True]]\n",
      "[[0. 0. 0.]\n",
      " [0. 1. 0.]\n",
      " [0. 0. 2.]]\n",
      "[[0. 0. 0.]\n",
      " [0. 1. 0.]\n",
      " [0. 0. 2.]]\n",
      "[[ True  True  True]\n",
      " [ True  True  True]\n",
      " [ True  True  True]]\n",
      "[[0.         0.         0.         0.        ]\n",
      " [1.         0.         0.         0.        ]\n",
      " [0.         1.41421356 0.         0.        ]\n",
      " [0.         0.         1.73205081 0.        ]]\n",
      "[[0.         0.         0.        ]\n",
      " [1.         0.         0.        ]\n",
      " [0.         1.41421356 0.        ]]\n",
      "False\n",
      "[[0.+2.j 0.+0.j]\n",
      " [0.+0.j 0.-2.j]]\n",
      "[[0.+2.j 0.+0.j]\n",
      " [0.+0.j 0.-2.j]]\n",
      "[[ True  True]\n",
      " [ True  True]]\n",
      "[[0.+0.j 0.+2.j]\n",
      " [0.+2.j 0.+0.j]]\n",
      "[[0.+0.j 0.+2.j]\n",
      " [0.+2.j 0.+0.j]]\n",
      "[[ True  True]\n",
      " [ True  True]]\n",
      "[[ 0.  2.]\n",
      " [-2.  0.]]\n",
      "[[ 0.+0.j  2.+0.j]\n",
      " [-2.+0.j  0.+0.j]]\n",
      "[[ True  True]\n",
      " [ True  True]]\n"
     ]
    },
    {
     "name": "stderr",
     "output_type": "stream",
     "text": [
      "ok\n",
      "\n",
      "======================================================================\n",
      "ERROR: test_boson_creation (__main__.TestOperators)\n",
      "For a qubit to remain the same, we do nothing.\n",
      "----------------------------------------------------------------------\n",
      "Traceback (most recent call last):\n",
      "  File \"<ipython-input-44-16db822336c8>\", line 52, in test_boson_creation\n",
      "    self.assertEqualMatrix(boson_creation(4), a3.T)\n",
      "  File \"<ipython-input-44-16db822336c8>\", line 19, in assertEqualMatrix\n",
      "    if (a == b).all():\n",
      "AttributeError: 'bool' object has no attribute 'all'\n",
      "\n",
      "----------------------------------------------------------------------\n",
      "Ran 2 tests in 0.021s\n",
      "\n",
      "FAILED (errors=1)\n"
     ]
    }
   ],
   "source": [
    "suite1 = unittest.TestLoader().loadTestsFromNames(['__main__.TestOperators'])\n",
    "unittest.TextTestRunner(verbosity=2).run(suite1);"
   ]
  },
  {
   "cell_type": "code",
   "execution_count": 20,
   "metadata": {},
   "outputs": [
    {
     "data": {
      "text/plain": [
       "False"
      ]
     },
     "execution_count": 20,
     "metadata": {},
     "output_type": "execute_result"
    }
   ],
   "source": [
    "(np.zeros((2,2)) == np.ones((2,2))).all()"
   ]
  },
  {
   "cell_type": "code",
   "execution_count": 24,
   "metadata": {},
   "outputs": [
    {
     "data": {
      "text/plain": [
       "False"
      ]
     },
     "execution_count": 24,
     "metadata": {},
     "output_type": "execute_result"
    }
   ],
   "source": [
    "boson_creation(2) == np.array([[0,1.0,0],\n",
    "                        [0,0,np.sqrt(2.)],\n",
    "                        [0,0,0]])"
   ]
  },
  {
   "cell_type": "code",
   "execution_count": 28,
   "metadata": {},
   "outputs": [
    {
     "data": {
      "text/plain": [
       "matrix([[0., 0.],\n",
       "        [1., 0.]])"
      ]
     },
     "execution_count": 28,
     "metadata": {},
     "output_type": "execute_result"
    }
   ],
   "source": [
    "boson_creation(2).todense()"
   ]
  },
  {
   "cell_type": "code",
   "execution_count": null,
   "metadata": {},
   "outputs": [],
   "source": []
  }
 ],
 "metadata": {
  "kernelspec": {
   "display_name": "Python 3",
   "language": "python",
   "name": "python3"
  },
  "language_info": {
   "codemirror_mode": {
    "name": "ipython",
    "version": 3
   },
   "file_extension": ".py",
   "mimetype": "text/x-python",
   "name": "python",
   "nbconvert_exporter": "python",
   "pygments_lexer": "ipython3",
   "version": "3.7.3"
  }
 },
 "nbformat": 4,
 "nbformat_minor": 4
}

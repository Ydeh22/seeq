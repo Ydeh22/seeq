{
 "cells": [
  {
   "cell_type": "markdown",
   "metadata": {},
   "source": [
    "# Introduction"
   ]
  },
  {
   "cell_type": "markdown",
   "metadata": {},
   "source": [
    "This project is a collection of algorithms and models for studying Quantum Mechanics and Quantum Optics at an advanced level. It spans basic models of cavity-QED, models of superconducting circuits, fundamental algorithms for solving Schrödinger and maste equations and much more. The following is an index to the notebooks and what they do."
   ]
  },
  {
   "cell_type": "markdown",
   "metadata": {},
   "source": [
    "## Index"
   ]
  },
  {
   "cell_type": "markdown",
   "metadata": {},
   "source": [
    "1. Fundamental algorithms\n",
    "\n",
    "  a. [Time evolution](1a%20Time%20evolution.ipynb)\n",
    "    \n",
    "     Solving Schrödinger equations with constant or time-dependent Hamiltonians\n",
    "     \n",
    "  b. [Master equations](1b%20Master%20equation.ipynb)\n",
    "  \n",
    "     Implementation of a master equation as a linear superoperator. Finding the\n",
    "     stationary states of a master equation and studying their time evolution.\n",
    "     \n",
    "  c. [Parametric quantum control](1c%20Quantum%20control.ipynb)\n",
    "  \n",
    "     Algorithms for the optimal control of a unitary evolution using parametrized\n",
    "     controls. This is the simplest algorithm to implement but has some nice\n",
    "     properties, such as controllable bandwidth and proximity to what can be\n",
    "     experimentally realized.\n",
    "     \n",
    "  d. [Operators and states](1d%20Operators%20and%20states.ipynb)\n",
    "  \n",
    "     Useful tools and well known operators: Pauli matrices, Fock operators, GHZ\n",
    "     states, W states, etc."
   ]
  },
  {
   "cell_type": "markdown",
   "metadata": {},
   "source": [
    "2. Specific models\n",
    "\n",
    "  a. [Lattice models](2a%20Lattices.ipynb)\n",
    "  \n",
    "     Models for a free particle hopping on a 1D, 2D or 3D lattice. These models\n",
    "     also apply to arrays of cavities or arrays of fermionic modes.\n",
    "\n",
    "  b. [Circuit-QED](2b%20Circuit-QED.ipynb)\n",
    "  \n",
    "     Hamiltonians for superconducting qubits (Transmon, FluxQubit, etc). Models\n",
    "     of qubits interacting with cavities or other elements.\n",
    "\n",
    "  c. [Spin-boson model](2c%20Spin-boson%20model.ipynb)\n",
    "  \n",
    "     Two-level system in a 1D, 2D or 3D bosonic bath. Simulation of the evolution\n",
    "     and the static properties using both RWA and polaron Hamiltonians."
   ]
  },
  {
   "cell_type": "markdown",
   "metadata": {},
   "source": [
    "## Rights and usage"
   ]
  },
  {
   "cell_type": "markdown",
   "metadata": {},
   "source": [
    "This library has been authored by the [QUINFOG group](https://quinfog.hbar.es) at the Institute of Fundamental Physics in CSIC."
   ]
  }
 ],
 "metadata": {
  "kernelspec": {
   "display_name": "Python 3",
   "language": "python",
   "name": "python3"
  },
  "language_info": {
   "codemirror_mode": {
    "name": "ipython",
    "version": 3
   },
   "file_extension": ".py",
   "mimetype": "text/x-python",
   "name": "python",
   "nbconvert_exporter": "python",
   "pygments_lexer": "ipython3",
   "version": "3.7.4"
  }
 },
 "nbformat": 4,
 "nbformat_minor": 4
}

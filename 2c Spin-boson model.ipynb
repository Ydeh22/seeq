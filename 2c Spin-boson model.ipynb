{
 "cells": [
  {
   "cell_type": "code",
   "execution_count": null,
   "metadata": {},
   "outputs": [],
   "source": [
    "# file: seeq/models/spinboson.py\n",
    "import numpy as np\n",
    "import scipy.sparse as sp\n",
    "from scipy.sparse.linalg import LinearOperator\n",
    "from seeq.models.lattice import Lattice, Regular3DLattice"
   ]
  },
  {
   "cell_type": "markdown",
   "metadata": {},
   "source": [
    "# Spin boson model"
   ]
  },
  {
   "cell_type": "markdown",
   "metadata": {},
   "source": [
    "## The problem"
   ]
  },
  {
   "cell_type": "markdown",
   "metadata": {},
   "source": [
    "The spin-boson model is a two-level system coupled to a bosonic environment\n",
    "$$ H = \\frac{\\Delta}{2}\\sigma^z + \\sum_{jk} \\bar{H}_{kj} a^\\dagger_k a_j + O \\sum_k (g_k a^\\dagger_k + \\mathrm{H.c.}).$$\n",
    "The bosonic modes are subject to a linear Hamiltonian, represented by the coupling matrix $\\bar{H},$ which will be usually created using a `Lattice` object (see notebook [Lattices](Lattices.ipynb)). These modes couple to the quantum emitter through coupling strengths $\\{g_k\\}.$"
   ]
  },
  {
   "cell_type": "markdown",
   "metadata": {},
   "source": [
    "### a) Polaron Hamiltonian"
   ]
  },
  {
   "cell_type": "markdown",
   "metadata": {},
   "source": [
    "This problem is usually approximated by the Rotating-Wave Approximation (RWA) model\n",
    "$$ H_{RWA} = \\frac{\\Delta}{2}\\sigma^z + \\sum_{kj} H_{kj} a^\\dagger_k a_j+ \\sum_k (g_k \\sigma^- a^\\dagger_k + \\mathrm{H.c.}),$$\n",
    "which neglects the counter-rotating terms $\\sigma^+ a_k^\\dagger$ and $\\sigma^- a_k.$"
   ]
  },
  {
   "cell_type": "markdown",
   "metadata": {},
   "source": [
    "Instead of doing this, we massage the full Hamiltonian to obtain new couplings using the Silbey-Harris theory. As explained in [T. Shi et al PRL 120, 153602 (2018)](https://doi.org/10.1103/PhysRevLett.120.153602), the effective model based on the polaron Hamiltonian takes the following form\n",
    "$$H=\\frac{\\tilde{\\Delta}}{2}\\sigma^z e^{-2\\sigma^x B^\\dagger}e^{2\\sigma^x B} + \\sum_{kj} H_{kj} a^\\dagger_k a_j + \\tilde{\\Delta}\\sigma^x (B + B^\\dagger)$$\n",
    "with the collective modes\n",
    "$$B=\\sum_k f_k^* a_k.$$"
   ]
  },
  {
   "cell_type": "markdown",
   "metadata": {},
   "source": [
    "The displacements $f_k$ can be grouped into a vector $\\vec{f}$ that satisfies the following self-consistent relations\n",
    "$$\\vec{f} = \\frac{1}{\\bar{H} + \\tilde{\\Delta}} \\vec{g}$$\n",
    "followed by\n",
    "$$\\tilde\\Delta = \\Delta \\exp\\left(-2 \\vec{f}^\\dagger \\vec{f}\\right).$$"
   ]
  },
  {
   "cell_type": "code",
   "execution_count": null,
   "metadata": {},
   "outputs": [],
   "source": [
    "# file: seeq/models/spinboson.py\n",
    "\n",
    "def SilbeyHarris(H, g, Δ=1.0):\n",
    "    \"\"\"Compute the effective couplings and renormalized frequency\n",
    "    of the Silbey-Harris transformation, using the self-consistent\n",
    "    equations.\n",
    "    \n",
    "    Parameters\n",
    "    ----------\n",
    "    H  -- Hamiltonian of the bosons (matrix or LinearOperator)\n",
    "    g  -- Vector of couplings between the emitter and the bosons\n",
    "    Δ  -- Gap of the quantum emitter (defaults to 1)\n",
    "    \n",
    "    Returns\n",
    "    -------\n",
    "    f  -- Vector of displacements\n",
    "    Δr -- Renormalized gap for the emitter\n",
    "    \"\"\"\n",
    "    Δr = Δ\n",
    "    f = g\n",
    "    if np.sum(np.abs(g)) > 1e-15:\n",
    "        #\n",
    "        # The Silbey-Harris procedure only works when the Hamiltonian\n",
    "        # of the bosons has a nonzero gap.\n",
    "        λ = sp.linalg.eigsh(H, k=1, which='SA', return_eigenvectors=False)\n",
    "        if np.min(λ) <= 0:\n",
    "            raise Exception(f'Eigenvalue negative or zero {λ}, singular lattice.')\n",
    "        #\n",
    "        # Solve the coupled equations iteratively.\n",
    "        Id = sp.eye(env.size)\n",
    "        for i in range(20):\n",
    "            newf = sp.linalg.spsolve(env.H + Δr * Id, g)\n",
    "            newΔr = Δ * np.exp(-2*np.vdot(newf,newf).real)\n",
    "            if f.size > 1:\n",
    "                err = 1.0 - np.vdot(newf,f)/(np.linalg.norm(f)*np.linalg.norm(newf))\n",
    "            else:\n",
    "                err = np.linalg.norm(newf-f)/np.linalg.norm(f)\n",
    "            f = newf\n",
    "            Δr = newΔr\n",
    "            if abs(err) < 1e-12:\n",
    "                break\n",
    "    return f, Δr"
   ]
  },
  {
   "cell_type": "markdown",
   "metadata": {},
   "source": [
    "### b) Chain mapping"
   ]
  },
  {
   "cell_type": "markdown",
   "metadata": {},
   "source": [
    "We can convert any of our environment models from a spin boson formulation with a generic number of modes\n",
    "$$H = \\frac{\\Delta}{2}\\sigma^z + \\sum_k g_k \\sigma^x(a_k + a_k^\\dagger) + \\sum_k \\omega_k a_k^\\dagger a_k$$\n",
    "to a tight-binding model\n",
    "$$H = \\frac{\\Delta}{2}\\sigma^z + \\beta_0 \\sigma^x (b_0+b_0^\\dagger) + \\sum_{k=0}^{N-1} (\\beta_k b_k^\\dagger b_{k+1}+\\mathrm{H.c.}) + \\sum_k \\alpha_k b_k^\\dagger b_k$$"
   ]
  },
  {
   "cell_type": "code",
   "execution_count": null,
   "metadata": {},
   "outputs": [],
   "source": [
    "class LanczosEnv(Lattice):\n",
    "    def __init__(self, lattice, g, tol=1e-10, nmodes=None, debug=False):\n",
    "        \"\"\"Construct an environment for an 1D model, up fom a general environment in\n",
    "        a higher-dimensional space.\n",
    "\n",
    "        Arguments:\n",
    "        ----------\n",
    "        lattice  -- Original problem\n",
    "        g        -- Vector of couplings from the qubit to the local modes\n",
    "        tol      -- Limit for stopping the Lanczos recursion\n",
    "                    (defaults to 1e-10)\n",
    "        nmodes   -- Maximum number of modes for the expansion\n",
    "                    (defaults to all modes)\n",
    "        \"\"\"\n",
    "        H = lattice\n",
    "        x = g\n",
    "        L = H.shape[0]\n",
    "        if nmodes is None:\n",
    "            nmodes = L\n",
    "        beta0 = np.linalg.norm(x)\n",
    "        x /= beta0\n",
    "        # The rows of 'w' are the modes 'b_k' of the new model\n",
    "        w = [x]\n",
    "        for i in range(nmodes-1):\n",
    "            x = H @ x\n",
    "            for y in w:\n",
    "                x = x - np.dot(y, x) * y\n",
    "            nrm = np.linalg.norm(x)\n",
    "            if nrm <= tol:\n",
    "                break\n",
    "            x /= nrm\n",
    "            w = [x] + w\n",
    "        # The columns of 'w' are the modes 'b_k' of the new model\n",
    "        w = np.array(list(reversed(w))).T\n",
    "        # We diagonalize the Hamiltonian on the projected subspace\n",
    "        H = w.T.conjugate() @ (H @ w)\n",
    "        # We extract the only relevant items, neglecting small values\n",
    "        H = sum(sp.diags([np.diag(H, i)], [i]) for i in [-1,0,1])\n",
    "        g = np.zeros(w.shape[1])\n",
    "        g[0] = 1.0\n",
    "        super(LanczosEnv, self).__init__(H, dimension=1)\n",
    "        self.basis = w\n",
    "        self.g = np.zeros(w.shape[1])\n",
    "        self.g[0] = 1.0\n",
    "        self.orig_lattice = lattice\n",
    "        print(f'Lanczos basis {w.shape}')"
   ]
  },
  {
   "cell_type": "markdown",
   "metadata": {},
   "source": [
    "### c) Single-photon polaron"
   ]
  },
  {
   "cell_type": "markdown",
   "metadata": {},
   "source": [
    "In the limit of single excitations, we can approximate\n",
    "$$e^{-2\\sigma^x B^\\dagger}e^{2\\sigma^x B} \\simeq 1 + 2\\sigma^x (B - B^\\dagger) - 4 B^\\dagger B.$$\n",
    "Using $\\sigma^z\\sigma^x = i\\sigma^y$ we obtain\n",
    "$$H_{polRWA} = \\frac{\\tilde\\Delta}{2}\\sigma^z - 2\\tilde{\\Delta} \\sigma^z B^\\dagger B + \\sum_{kj} H_{kj} a^\\dagger_k a_j\n",
    "+ \\tilde{\\Delta}[(\\sigma^x + i \\sigma^y)B + (\\sigma^x - i\\sigma^y)B^\\dagger]$$\n",
    "or equivalently\n",
    "$$H_{polRWA} =\\frac{\\tilde\\Delta}{2}\\sigma^z(1 - 4 B^\\dagger B) + \\sum_{kj} H_{kj} a^\\dagger_k a_j\n",
    "+ 2\\tilde{\\Delta}[\\sigma^+ B + \\sigma^- B^\\dagger]$$"
   ]
  },
  {
   "cell_type": "markdown",
   "metadata": {},
   "source": [
    "Note also that the polaron representation is *rotated* with respect to the lab frame. If we wish to estimate the lab expectation value of $\\sigma_z$ we have to compute $\\frac{\\tilde\\Delta}{\\Delta}\\sigma^z(1-4B^\\dagger B)$ instead!"
   ]
  },
  {
   "cell_type": "markdown",
   "metadata": {},
   "source": [
    "The following class implements both $H_{RWA}$ and $H_{polRWA}$. Note that they are structurally very similar. The only differences are the lack of the $B^\\dagger B$ correction and the fact that the polRWA model uses couplings $2\\tilde{\\Delta}f_k$ instead of the original $g_k$."
   ]
  },
  {
   "cell_type": "code",
   "execution_count": null,
   "metadata": {},
   "outputs": [],
   "source": [
    "# file: seeq/models/spinboson.py\n",
    "from seeq.evolution import evolve\n",
    "\n",
    "class SinglePhotonHamiltonian(LinearOperator):\n",
    "    \"\"\"Class for the single-photon limit of the Polaron or RWA\n",
    "    Hamiltonians of the spin-boson model.\n",
    "    \n",
    "    Parameters\n",
    "    ----------\n",
    "    lattice  -- an object of Lattice class representing the bosonic environment\n",
    "    r        -- position of the quantum emitter in `lattice`\n",
    "    g        -- vector of couplings between the emitter and the environment or\n",
    "                a scalar to multiply the output of `lattice.coupling_at(r)`.\n",
    "    Δ        -- energy gap of the bare emitter (defaults to 1.)\n",
    "    polaron  -- True if you wish to use the polaron approximation.\n",
    "    Lanczos  -- True if you wish to simplify the lattice using the Lanczos method\n",
    "    nmodes   -- number of modes to keep in the Lanczos method\n",
    "    \"\"\"\n",
    "\n",
    "    def __init__(self, lattice, g=1., r=None, Δ=1.0, polaron=False,\n",
    "                 Lanczos=False, nmodes=None):\n",
    "        #\n",
    "        # `N` is the number of photon modes. The Hilbert space of\n",
    "        # photons include 1 photon state per mode plus one state for\n",
    "        # the excited qubit, hence dimension is N+1\n",
    "        N = lattice.size\n",
    "        L = N+1\n",
    "        super(SinglePhotonHamiltonian, self).__init__(np.complex128, (L,L))\n",
    "        self.N = N\n",
    "        self.size = L\n",
    "\n",
    "        if np.isscalar(g) and r is None:\n",
    "            raise Exception('You need to provide the position of the emitter.')\n",
    "        self.g = g = g * lattice.coupling_at(r)\n",
    "        self.Δ = Δ\n",
    "        #\n",
    "        # When using the Lanczos optimization, the vector of couplings\n",
    "        # changes, because it is expressed in a new basis.\n",
    "        self.Lanczos = Lanczos\n",
    "        if Lanczos:\n",
    "            self.old_lattice = lattice\n",
    "            lattice = lattice = LanczosEnv(lattice, g, nmodes=nmodes)\n",
    "            g = lattice.g\n",
    "        self.lattice = lattice\n",
    "        #\n",
    "        # When using the polaron approximation, we compute the displacements\n",
    "        # the renormalized frequency and the effective couplings\n",
    "        self.polaron = polaron\n",
    "        if polaron:\n",
    "            f, Δr = SilbeyHarris(lattice, Δ=Δ)\n",
    "            self.f = f\n",
    "        #\n",
    "        # The qubit operator is excited only in the state '0'\n",
    "        sz = sp.diags([[1.0]+[-1.0]*N], offsets=[0], format='coo')\n",
    "        #\n",
    "        # Boson Hamiltonian\n",
    "        Hw = sp.bmat([[0.0, sp.coo_matrix((1,N))],\n",
    "                      [sp.coo_matrix((N,1)), lattice.hamiltonian()]])\n",
    "        #\n",
    "        # Number of excitations in photon space\n",
    "        nphotons = sp.diags([[0.0]+[1.0]*N], offsets=[0], format='coo')\n",
    "        #\n",
    "        # Given a vector `g` construct `\\sum_k g_k \\sigma^+ a_k`\n",
    "        spB = sp.bmat([[0.0, g.conj()],\n",
    "                       [sp.coo_matrix((N,1)), sp.coo_matrix((N,N))]])\n",
    "        smBd = spB.T.conj()\n",
    "        #\n",
    "        # These are the differences between the pure polaron and\n",
    "        # the RWA model. The polaron model involves a dense matrix\n",
    "        # B^\\dagger * B, which is why we code it as a LinearOperator\n",
    "        # that does not need to build the matrix\n",
    "        if polaron:\n",
    "            Hint = 2.0 * DeltaR * (spB + smBd)\n",
    "            polSz = lambda ψ: (Δr/Delta)* (sz @ (ψ - 4.0 * (smBd @ (spB @ ψ))))\n",
    "            applyH = lambda ψ: Hw @ ψ + Hint @ ψ + 0.5 * Δ * polSz(ψ)\n",
    "            self._applyH = _applyH\n",
    "            self._H = LinearOperator(matvec=applyH, shape=(L,L))\n",
    "            self.lab_sz = sp.linalg.LinearOperator(matvec=polSz, shape=(L,L))\n",
    "        else:\n",
    "            H = Hw + (spB + smBd) + 0.5 * Δ * sz\n",
    "            self._applyH = lambda ψ: H @ ψ\n",
    "            self.lab_sz = sz\n",
    "        self.sz = sz\n",
    "        self.nphotons = nphotons\n",
    "\n",
    "    def Hamiltonian(self):\n",
    "        return self._H\n",
    "    \n",
    "    def _matvec(self, ψ):\n",
    "        return self._applyH(ψ)\n",
    "    \n",
    "    def _matmat(self, A):\n",
    "        return self._applyH(A)\n",
    "\n",
    "    def one_photon(self, ϕ):\n",
    "        \"\"\"Return a state with a photon wavepacket.\n",
    "        \n",
    "        Parameters\n",
    "        ----------\n",
    "        ϕ  -- Photon wavepacket. Complex vector of size N, with\n",
    "              the amplitudes of the state on each lattice site.\"\"\"\n",
    "        return np.concatenate([[0.], ϕ / np.linalg.norm(ϕ)])\n",
    "\n",
    "    def excited(self):\n",
    "        \"\"\"Return a state with an excited qubit.\"\"\"\n",
    "        return np.concatenate([[1.], np.zeros(self.N,)])\n",
    "\n",
    "    def photon_part(self, ψ):\n",
    "        if self.Lanczos:\n",
    "            return self.lattice.basis @ ψ[1:]\n",
    "        else:\n",
    "            return ψ[1:]\n",
    "\n",
    "    def emission(self, T, steps=20, collect_states=False, **kwdargs):\n",
    "        \"\"\"Simulate the spontaneous emission of the excited impurity on\n",
    "        a background of no photons.\n",
    "        \n",
    "        Parameters\n",
    "        ----------\n",
    "        T, steps       -- Similar semantics to seeq.evolution.evolve()\n",
    "        collect_states -- True if we collect all states\n",
    "        **kwdargs      -- All other arguments accepted by evolve()\n",
    "        \n",
    "        Returns\n",
    "        -------\n",
    "        t              -- Vector of times\n",
    "        P1             -- Excited population of the qubit\n",
    "        Pphoton        -- Density of photons\n",
    "        ψ              -- Matrix of all states (if collect_states) or\n",
    "                          final state otherwise\"\"\"\n",
    "        if np.isscalar(T):\n",
    "            T = np.linspace(0, T, steps)\n",
    "        times = []\n",
    "        out_ψ = []\n",
    "        P1 = []\n",
    "        Pphoton = []\n",
    "        for (t, ψt) in evolve(self.excited(), self, T, constant=True, **kwdargs):\n",
    "            if collect_states:\n",
    "                out_ψ.append(ψt)\n",
    "            else:\n",
    "                out_ψ = ψt\n",
    "            times.append(t)\n",
    "            P1.append(np.abs(ψt[0])**2)\n",
    "            Pphoton.append(np.abs(ψt[1:])**2)\n",
    "        return np.array(times), np.array(P1), np.array(Pphoton), np.array(out_ψ)"
   ]
  },
  {
   "cell_type": "markdown",
   "metadata": {},
   "source": [
    "## Applications"
   ]
  },
  {
   "cell_type": "code",
   "execution_count": null,
   "metadata": {},
   "outputs": [],
   "source": [
    "%matplotlib inline\n",
    "import matplotlib.pyplot as plt"
   ]
  },
  {
   "cell_type": "markdown",
   "metadata": {},
   "source": [
    "### a) Chain mapping lattice"
   ]
  },
  {
   "cell_type": "code",
   "execution_count": null,
   "metadata": {},
   "outputs": [],
   "source": [
    "from seeq.models.lattice import SquareLattice\n",
    "from seeq.models.lattice_plot import plot_lattice, plot_field2d\n",
    "\n",
    "def show_Lanczos_modes(L=20):\n",
    "    #\n",
    "    # Create a 1D lattice with hopping `J` and on-site frequency `ω`\n",
    "    lattice = SquareLattice(L, Jx=1., ω=1.)\n",
    "    #\n",
    "    # Emitter position\n",
    "    r = (int(L/2),int(L/2),0)\n",
    "    #\n",
    "    # Lanczos environment\n",
    "    lanczos = LanczosEnv(lattice, lattice.coupling_at(r))\n",
    "    \n",
    "    fig, ((ax1, ax2),(ax3,ax4)) = plt.subplots(nrows=2, ncols=2, figsize=(10,10))\n",
    "    plot_lattice(lattice, ax=ax1)\n",
    "    plot_field2d(lattice, np.abs(lanczos.basis[:,0]), ax=ax1, cmap='Oranges')\n",
    "    plot_lattice(lattice, ax=ax2)\n",
    "    plot_field2d(lattice, np.abs(lanczos.basis[:,1]), ax=ax2, cmap='Oranges')\n",
    "    plot_lattice(lattice, ax=ax3)\n",
    "    plot_field2d(lattice, np.abs(lanczos.basis[:,4]), ax=ax3, cmap='Oranges')\n",
    "    plot_lattice(lattice, ax=ax4)\n",
    "    plot_field2d(lattice, np.abs(lanczos.basis[:,8]), ax=ax4, cmap='Oranges')\n",
    "    plt.tight_layout()\n",
    "\n",
    "show_Lanczos_modes()"
   ]
  },
  {
   "cell_type": "markdown",
   "metadata": {},
   "source": [
    "### b) Spontaneous emission in 1D"
   ]
  },
  {
   "cell_type": "markdown",
   "metadata": {},
   "source": [
    "Note how the class implements a method, `emission()`, that simulates the decay of the quantum emitter over a given period of time."
   ]
  },
  {
   "cell_type": "code",
   "execution_count": null,
   "metadata": {},
   "outputs": [],
   "source": [
    "from seeq.models.lattice import Lattice1D\n",
    "\n",
    "def test_emission(Δ=2., x=0, g=0.05, L=100, J=1., ω=2., T=50, steps=50):\n",
    "    #\n",
    "    # Create a 1D lattice with hopping `J` and on-site frequency `ω`\n",
    "    lattice = Lattice1D(L, J=J, ω=ω)\n",
    "    #\n",
    "    # Emitter position\n",
    "    r = (x,0,0)\n",
    "    #\n",
    "    # Create a spin-boson model\n",
    "    SB = SinglePhotonHamiltonian(lattice, Δ=Δ, g=g, r=r)\n",
    "    \n",
    "    t, P1, Pphoton, _ = SB.emission(T, steps=steps)\n",
    "    \n",
    "    fig, (ax1, ax2) = plt.subplots(ncols=2, figsize=(10,4))\n",
    "    ax1.plot(t * J, P1)\n",
    "    ax1.set_xlabel('$t J$')\n",
    "    ax1.set_ylabel('$P_e$')\n",
    "    X, Y = np.meshgrid(np.arange(lattice.size), t*J)\n",
    "    ax2.pcolormesh(X, Y, Pphoton)\n",
    "    ax2.set_xlabel('$x$')\n",
    "    ax2.set_ylabel('$t J$')\n",
    "\n",
    "test_emission()"
   ]
  },
  {
   "cell_type": "markdown",
   "metadata": {},
   "source": [
    "Using this utility, we can study the spontaneous emission of a two-level system as a function of time, and how the created photon wavepacket propagates through the lattice."
   ]
  },
  {
   "cell_type": "code",
   "execution_count": null,
   "metadata": {},
   "outputs": [],
   "source": []
  }
 ],
 "metadata": {
  "kernelspec": {
   "display_name": "Python 3",
   "language": "python",
   "name": "python3"
  },
  "language_info": {
   "codemirror_mode": {
    "name": "ipython",
    "version": 3
   },
   "file_extension": ".py",
   "mimetype": "text/x-python",
   "name": "python",
   "nbconvert_exporter": "python",
   "pygments_lexer": "ipython3",
   "version": "3.7.4"
  }
 },
 "nbformat": 4,
 "nbformat_minor": 4
}

{
 "cells": [
  {
   "cell_type": "markdown",
   "metadata": {},
   "source": [
    "# Lattices"
   ]
  },
  {
   "cell_type": "code",
   "execution_count": null,
   "metadata": {
    "scrolled": true
   },
   "outputs": [],
   "source": [
    "# file: seeq/models/lattice.py\n",
    "import numpy as np\n",
    "import scipy.sparse as sp\n",
    "from scipy.sparse.linalg import LinearOperator"
   ]
  },
  {
   "cell_type": "markdown",
   "metadata": {},
   "source": [
    "## Generic interface"
   ]
  },
  {
   "cell_type": "markdown",
   "metadata": {},
   "source": [
    "This notebook is devoted to models of a particle hopping on an n-dimensional lattice. These models are described by a generic Hamiltonian\n",
    "$$H = \\sum_{\\langle i,k\\rangle} t_{ik}\\left|i\\right\\rangle\\left\\langle{k}\\right| + \\sum_i \\omega_i \\left|i\\right\\rangle\\left\\langle{i}\\right|,$$\n",
    "or in second quantization speak\n",
    "$$H = \\sum_{\\langle i,k\\rangle} t_{ik}a_i^\\dagger a_k + \\sum_i \\omega_i a_i^\\dagger a_i,$$\n",
    "for either bosonic or fermionic operators $\\{a_i^\\dagger,a_i\\}.$"
   ]
  },
  {
   "cell_type": "markdown",
   "metadata": {},
   "source": [
    "The description becomes simpler if we join the hopping $t$ and the local frequencies $\\omega$ into a single matrix $\\bar{H}_{ik}$ such that\n",
    "$$H = \\sum_{i,k} \\bar{H}_{ik} a^\\dagger_i a_k.$$\n",
    "Since the matrix $\\bar{H}$ is sparse, we can use Python's efficient storage methods to represent it. However, we may sometimes perform unitary transformations on the particle space, storing alternative forms of $\\bar{H},$ such as its diagonal form, its spectrum or eigenmodes, or other compact representations."
   ]
  },
  {
   "cell_type": "markdown",
   "metadata": {},
   "source": [
    "Quite often, our lattice will host one or more impurities that will generically couple to the lattice sites. Those couplings will adopt the form\n",
    "$$H_{int} = \\sum_n O_n \\sum_i (g_{n,i} a_i^\\dagger + \\mathrm{H.c.}),$$\n",
    "where the vector of couplings $g_{ni}$ is usually determined by the \"position\" of the impurity $x_n.$"
   ]
  },
  {
   "cell_type": "markdown",
   "metadata": {},
   "source": [
    "The generic class `Lattice()` provides an interface to both the effective Hamiltonian and the local couplings."
   ]
  },
  {
   "cell_type": "code",
   "execution_count": null,
   "metadata": {},
   "outputs": [],
   "source": [
    "# file: seeq/models/lattice.py\n",
    "\n",
    "class Lattice(LinearOperator):\n",
    "    \"\"\"Generic Lattice model with hopping/local frequencies.\n",
    "    \n",
    "    Properties\n",
    "    ----------\n",
    "    H         -- NxN matrix of tunnelings and local frequencies.\n",
    "    dimension -- Dimensionality of the model.\n",
    "    \"\"\"\n",
    "    \n",
    "    def __init__(self, H, dimension=1):\n",
    "        super(Lattice, self).__init__(np.float64, H.shape)\n",
    "        self._H = H\n",
    "        self.size = H.shape[0]\n",
    "        self.dimension = dimension\n",
    "\n",
    "    def hamiltonian(self):\n",
    "        return self._H\n",
    "\n",
    "    def coupling_at(self, r):\n",
    "        \"\"\"Return a vector of couplings for an impurity at position\n",
    "        `r` in this generic lattice. The interpretation of `r` is\n",
    "        left up to the subclass.\"\"\"\n",
    "        pass\n",
    "\n",
    "    def _matvec(self, v):\n",
    "        # Implement the matrix-vector multiplication\n",
    "        # Inherited interface from LinearOperator()\n",
    "        return self._H @ v\n",
    "\n",
    "    def _matmat(self, A):\n",
    "        # Implement the matrix-matrix multiplication\n",
    "        # Inherited interface from LinearOperator()\n",
    "        return self._H @ A"
   ]
  },
  {
   "cell_type": "markdown",
   "metadata": {},
   "source": [
    "## Regular lattice"
   ]
  },
  {
   "cell_type": "markdown",
   "metadata": {},
   "source": [
    "The following class is a generic form of `Lattice` uses a subset of points on a 1-D, 2-D or 3-D space,  but only those that satisfy a condition `f_{cond}`. In other words\n",
    "$$S = \\{ \\vec{x}=(r_{0x}+i, r_{0y}+j, r_{0z}+k) | 0 \\leq i < L_x,\\, 0 \\leq j < L_y,\\, 0 \\leq k < L_z,\\;\\mathrm{if}\\;f_{cond}(\\vec{x})=1 \\}$$"
   ]
  },
  {
   "cell_type": "markdown",
   "metadata": {},
   "source": [
    "The hopping is defined by a function $f_{hopping}$ that returns a list of pairs $[(J_1,\\vec{y}_1),(J_2,\\vec{y}_2),\\ldots]$ with the neighbors of the given site and the hoppings."
   ]
  },
  {
   "cell_type": "markdown",
   "metadata": {},
   "source": [
    "This generic interface allows us to specialize one-dimensional lattices, two-dimensional square lattices, cubic and BCC lattices, with arbitrary boundaries. "
   ]
  },
  {
   "cell_type": "code",
   "execution_count": null,
   "metadata": {},
   "outputs": [],
   "source": [
    "# file: seeq/models/lattice.py\n",
    "\n",
    "class Regular3DLattice(Lattice):\n",
    "    \"\"\"Regular lattice of equispaced points, with arbitrary connectivity and boundary.\n",
    "    \n",
    "    Parameters\n",
    "    ----------\n",
    "    sizes     -- tuple (Lx, Ly, Lz) of sizes for the lattice\n",
    "    hopping   -- function of three arguments (X,Y,Z), returning a list of pairs\n",
    "                 [(J, (X,Y,Z))] with the hopping and the neighbor's coordinate.\n",
    "    r0        -- location of the corner (defaults to (0,0,0))\n",
    "    condition -- function of three arguments (X,Y,Z), returning true if the point\n",
    "                 belongs to the lattice.\n",
    "    \"\"\"\n",
    "    \n",
    "    def __init__(self, sizes, hopping, g=None, r0=(0,0,0), condition=None):\n",
    "        \n",
    "        if condition == None:\n",
    "            condition = lambda X, Y, Z: True\n",
    "\n",
    "        # Construct all points in this lattice\n",
    "        X0, Y0, Z0 = r0\n",
    "        coord = [(X,Y,Z)\n",
    "                 for X in range(X0,X0+sizes[0])\n",
    "                 for Y in range(Y0,Y0+sizes[1])\n",
    "                 for Z in range(Z0,Z0+sizes[2])\n",
    "                 if condition(X, Y, Z)]\n",
    "        #\n",
    "        # Assign an index to each point\n",
    "        ndx_map = {vector: ndx for ndx, vector in enumerate(coord)}\n",
    "        #\n",
    "        # Construct the list of neighbors for each point, together\n",
    "        # with their hoppings\n",
    "        hops = np.array([(J, i, ndx_map[dest])\n",
    "                         for i, orig in enumerate(coord)\n",
    "                         for J, dest in hopping(*orig)\n",
    "                         if dest in ndx_map])\n",
    "        #\n",
    "        # Use this information to build the sparse matrix `H` of\n",
    "        # hoppings and frequencies.\n",
    "        L = len(ndx_map)\n",
    "        H = sp.csr_matrix((hops[:,0],(hops[:,1],hops[:,2])), shape=(L,L))\n",
    "        #\n",
    "        # Determine the dimensionality \n",
    "        if sizes[2] > 1:\n",
    "            dimension = 3\n",
    "        elif sizes[1] > 1:\n",
    "            dimension = 2\n",
    "        else:\n",
    "            dimension = 1\n",
    "        super(Regular3DLattice, self).__init__(H, dimension)\n",
    "        self.coord = coord = np.array(coord)\n",
    "        self.ndx_map = ndx_map\n",
    "        self.Xmin = min(coord[:,0])\n",
    "        self.Xmax = max(coord[:,0])\n",
    "        self.Ymin = min(coord[:,1])\n",
    "        self.Ymax = max(coord[:,1])\n",
    "        self.Zmin = min(coord[:,2])\n",
    "        self.Zmax = max(coord[:,2])\n",
    "\n",
    "    def coupling_at(self, r, g=1.0):\n",
    "        \"\"\"Return vector of couplings at given position.\"\"\"\n",
    "        ndx = ndx_map.get(r, None)\n",
    "        if ndx is None:\n",
    "            raise Exception(f'Emitter position {r} is not in the lattice.')\n",
    "        gr = np.zeros(self.sizeL)\n",
    "        gr[ndx] = g\n",
    "        return gr\n",
    "\n",
    "    def vertex_index(self, r):\n",
    "        \"\"\"Return the index of position 'r' in the lattice.\"\"\"\n",
    "        return self.ndx_map[r]"
   ]
  },
  {
   "cell_type": "markdown",
   "metadata": {},
   "source": [
    "The following is an optional function that you can import to plot the lattice structure. It is optional and separate because it relies on `mpl_toolkits`, which may or may not be installed."
   ]
  },
  {
   "cell_type": "code",
   "execution_count": null,
   "metadata": {},
   "outputs": [],
   "source": [
    "# file: seeq/models/lattice_plot.py\n",
    "\n",
    "import matplotlib.collections\n",
    "import matplotlib.pyplot as plt\n",
    "import matplotlib.tri as tri\n",
    "\n",
    "def plot_lattice(L, ax=None, dot='.'):\n",
    "    \"\"\"Plot a 2D or 3D representation of the lattice on the given\n",
    "    axis, or create one if none is given.\n",
    "    \n",
    "    Parameters\n",
    "    ----------\n",
    "    L    -- A Regular3DLattice() object\n",
    "    ax   -- Axis to plot on. If None, create a new one.\n",
    "    dot  -- Symbol to plot on the vertices of the lattice.\n",
    "    \n",
    "    Returns\n",
    "    -------\n",
    "    ax   -- Axis on which the figure is plot.\n",
    "    \"\"\"\n",
    "    if ax is None:\n",
    "        if L.dimension <= 2:\n",
    "            fig, ax = plt.subplots()\n",
    "        else:\n",
    "            import mpl_toolkits.mplot3d\n",
    "            fig, ax = plt.subplots(subplot_kw={'projection':'3d'})\n",
    "    #\n",
    "    # We plot all the connections\n",
    "    #\n",
    "    H = L.hamiltonian()\n",
    "    coord = L.coord\n",
    "    aux = sp.coo_matrix(H)\n",
    "    if L.dimension == 3:\n",
    "        import mpl_toolkits.mplot3d.art3d\n",
    "        lines = [(coord[a,:], coord[b,:])\n",
    "                 for (a,b) in zip(aux.row, aux.col)\n",
    "                 if H[a,b] != 0]\n",
    "        lc = mpl_toolkits.mplot3d.art3d.Line3DCollection(lines, linewidths=0.2)\n",
    "    else:\n",
    "        import matplotlib.collections\n",
    "        lines = [(coord[a,0:2], coord[b,0:2])\n",
    "                 for (a,b) in zip(aux.row, aux.col)\n",
    "                 if H[a,b] != 0]\n",
    "        lc = matplotlib.collections.LineCollection(lines, linewidths=0.2)\n",
    "    ax.add_collection(lc)\n",
    "    #\n",
    "    # First we plot all the dots that are connected to others\n",
    "    #\n",
    "    ndx, _ = np.nonzero(np.sum(np.abs(H), 1))\n",
    "    points = coord[ndx,:]\n",
    "    if L.dimension == 3:\n",
    "        ax.plot(points[:,0], points[:,1], points[:,2], '.')\n",
    "    else:\n",
    "        ax.plot(points[:,0], points[:,1], '.')\n",
    "    return ax"
   ]
  },
  {
   "cell_type": "markdown",
   "metadata": {},
   "source": [
    "### a) One-dimensional lattice"
   ]
  },
  {
   "cell_type": "code",
   "execution_count": null,
   "metadata": {},
   "outputs": [],
   "source": [
    "# file: seeq/models/lattice.py\n",
    "\n",
    "class Lattice1D(Regular3DLattice):\n",
    "    \"\"\"Latice for a 1D model with nearest-neighbor hoppings.\n",
    "    \n",
    "    Parameters\n",
    "    ----------\n",
    "    L         -- Lattice length (number of vertices)\n",
    "    J         -- Hopping amplitude\n",
    "    ω         -- Local energy on each site\n",
    "    r0        -- location of the corner (defaults to (0,0,0))\n",
    "    \"\"\"\n",
    "\n",
    "    def __init__(self, L, J=1, ω=1, **kwdargs):\n",
    "        \n",
    "        def hopping1d(X, Y, Z):\n",
    "            return [(ω, (X,Y,Z)), (J, (X+1,Y,Z)), (J, (X-1,Y,Z))]\n",
    "\n",
    "        super(Lattice1D, self).__init__([L,1,1], hopping1d, **kwdargs)\n",
    "        self.J = J\n",
    "        self.ω = ω"
   ]
  },
  {
   "cell_type": "markdown",
   "metadata": {},
   "source": [
    "A 1D lattice produces a tridiagonal matrix"
   ]
  },
  {
   "cell_type": "code",
   "execution_count": null,
   "metadata": {},
   "outputs": [],
   "source": [
    "print(Lattice1D(10, J=-1.0, ω=2.0).hamiltonian().todense())"
   ]
  },
  {
   "cell_type": "markdown",
   "metadata": {},
   "source": [
    "When plotted, we have just a 1D line."
   ]
  },
  {
   "cell_type": "code",
   "execution_count": null,
   "metadata": {},
   "outputs": [],
   "source": [
    "plot_lattice(Lattice1D(10));"
   ]
  },
  {
   "cell_type": "markdown",
   "metadata": {},
   "source": [
    "### b) Two-dimensional square lattice"
   ]
  },
  {
   "cell_type": "code",
   "execution_count": null,
   "metadata": {},
   "outputs": [],
   "source": [
    "# file: seeq/models/lattice.py\n",
    "\n",
    "class SquareLattice(Regular3DLattice):\n",
    "    \"\"\"Latice for a 2D model with nearest-neighbor hoppings.\n",
    "    \n",
    "    Parameters\n",
    "    ----------\n",
    "    Lx, Ly    -- Lattice length (number of vertices). Ly defaults to Lx\n",
    "    Jx, Jy    -- hopping amplitudes (Jy defaults to Jx, Jx defaults to 1)\n",
    "    ω         -- Local energy on each site\n",
    "    r0        -- location of the corner (defaults to (0,0,0))\n",
    "    \"\"\"\n",
    "\n",
    "    def __init__(self, Lx, Ly=None, Jx=1.0, Jy=None, ω=1, **kwdargs):\n",
    "        \n",
    "        if Ly is None:\n",
    "            Ly = Lx\n",
    "        if Jy is None:\n",
    "            Jy = Jx\n",
    "\n",
    "        def hopping2d(X, Y, Z):\n",
    "            return [(ω, (X,Y,Z)), (Jx, (X+1,Y,Z)), (Jx, (X-1,Y,Z)), (Jy, (X,Y+1,Z)), (Jy, (X,Y-1,Z))]\n",
    "\n",
    "        super(SquareLattice, self).__init__([Lx,Ly,1], hopping2d, **kwdargs)\n",
    "        self.J = (Jx, Jy)\n",
    "        self.ω = ω"
   ]
  },
  {
   "cell_type": "code",
   "execution_count": null,
   "metadata": {},
   "outputs": [],
   "source": [
    "plot_lattice(SquareLattice(Lx=10, Ly=8, Jx=1, Jy=1));"
   ]
  },
  {
   "cell_type": "markdown",
   "metadata": {},
   "source": [
    "## c) Rhombus"
   ]
  },
  {
   "cell_type": "code",
   "execution_count": null,
   "metadata": {},
   "outputs": [],
   "source": [
    "# file: seeq/models/lattice.py\n",
    "\n",
    "class RhombusLattice(Regular3DLattice):\n",
    "    \"\"\"Latice for a 2D model with nearest-neighbor hoppings and a boundary\n",
    "    that resembles a Rhombus\n",
    "    \n",
    "    Parameters\n",
    "    ----------\n",
    "    L         -- Lattice length (number of vertices)\n",
    "    Jx, Jy    -- hopping amplitudes (Jy defaults to Jx, Jx defaults to 1)\n",
    "    ω         -- Local energy on each site\n",
    "    r0        -- Center of the rombus\n",
    "    \"\"\"\n",
    "\n",
    "    def __init__(self, L, Jx=1.0, Jy=None, ω=1, r0=(0,0,0), **kwdargs):\n",
    "        if Jy is None:\n",
    "            Jy = Jx\n",
    "\n",
    "        X0, Y0, Z0 = r0\n",
    "        r0 = (X0 - L, Y0 - L, Z0)\n",
    "\n",
    "        def hopping2d(X, Y, Z):\n",
    "            return [(ω, (X,Y,Z)), (Jx, (X+1,Y,Z)), (Jx, (X-1,Y,Z)), \n",
    "                    (Jy, (X,Y+1,Z)), (Jy, (X,Y-1,Z))]\n",
    "\n",
    "        def condition(X, Y, Z):\n",
    "            X -= X0\n",
    "            Y -= Y0\n",
    "            return ((np.abs(X-Y) <= L) & (np.abs(X+Y) <= L))+0\n",
    "\n",
    "        super(RhombusLattice, self).__init__([2*L+1,2*L+1,1], hopping2d, r0=r0,\n",
    "                                             condition=condition, **kwdargs)\n",
    "        self.J = (Jx, Jy)\n",
    "        self.ω = ω"
   ]
  },
  {
   "cell_type": "code",
   "execution_count": null,
   "metadata": {},
   "outputs": [],
   "source": [
    "plot_lattice(RhombusLattice(30));"
   ]
  },
  {
   "cell_type": "markdown",
   "metadata": {},
   "source": [
    "### d) Cubic lattice"
   ]
  },
  {
   "cell_type": "code",
   "execution_count": null,
   "metadata": {},
   "outputs": [],
   "source": [
    "# file: seeq/models/lattice.py\n",
    "\n",
    "class CubicLattice(Regular3DLattice):\n",
    "    \"\"\"Latice for a 3D model with a cubic lattice.\n",
    "    \n",
    "    Parameters\n",
    "    ----------\n",
    "    Lx, Ly, Lz -- Lattice length (number of vertices, Ly and Lz default to Lx)\n",
    "    Jx, Jy, Jx -- hopping amplitudes (Jx defaults to 1, Jy and Jz default to Jx)\n",
    "    ω          -- Local energy on each site\n",
    "    r0         -- Corner of the cube\n",
    "    \"\"\"\n",
    "\n",
    "    def __init__(self, Lx, Ly=None, Lz=None, Jx=1.0, Jy=None, Jz=None, ω=1, **kwdargs):\n",
    "        if Ly is None:\n",
    "            Ly = Lx\n",
    "        if Lz is None:\n",
    "            Lz = Lx\n",
    "        if Jy is None:\n",
    "            Jy = Jx\n",
    "        if Jz is None:\n",
    "            Jz = Jx\n",
    "\n",
    "        def hopping3d(X, Y, Z):\n",
    "            return [(ω, (X,Y,Z)),\n",
    "                    (Jx, (X+1,Y,Z)), (Jx, (X-1,Y,Z)),\n",
    "                    (Jy, (X,Y+1,Z)), (Jy, (X,Y-1,Z)),\n",
    "                    (Jz, (X,Y,Z+1)), (Jz, (X,Y,Z-1))]\n",
    "\n",
    "        super(CubicLattice, self).__init__([Lx,Ly,Lz], hopping3d, **kwdargs)\n",
    "        self.J = (Jx, Jy, Jz)\n",
    "        self.ω = ω"
   ]
  },
  {
   "cell_type": "code",
   "execution_count": null,
   "metadata": {},
   "outputs": [],
   "source": [
    "plot_lattice(CubicLattice(Lx=5, Jx=1));"
   ]
  },
  {
   "cell_type": "markdown",
   "metadata": {},
   "source": [
    "### e) BCC Lattice"
   ]
  },
  {
   "cell_type": "code",
   "execution_count": null,
   "metadata": {},
   "outputs": [],
   "source": [
    "# file: seeq/models/lattice.py\n",
    "\n",
    "class BCCLattice(Regular3DLattice):\n",
    "    \"\"\"Latice for a 3D model with a BCC lattice.\n",
    "    \n",
    "    Parameters\n",
    "    ----------\n",
    "    Lx, Ly, Lz -- Lattice length (number of vertices, Ly and Lz default to Lx)\n",
    "    J          -- hopping amplitudes (defaults to 1)\n",
    "    ω          -- Local energy on each site\n",
    "    r0         -- Corner of the cube\n",
    "    \"\"\"\n",
    "\n",
    "    def __init__(self, Lx, Ly=None, Lz=None, J=1.0, ω=1, **kwdargs):\n",
    "        if Ly is None:\n",
    "            Ly = Lx\n",
    "        if Lz is None:\n",
    "            Lz = Lx\n",
    "\n",
    "        def bcc_hopping(X, Y, Z):\n",
    "            return [(ω, (X,Y,Z)),\n",
    "                     (J, (X+1,Y+1,Z+1)), (J, (X-1,Y-1,Z+1)),\n",
    "                     (J, (X+1,Y-1,Z+1)), (J, (X-1,Y+1,Z+1)),\n",
    "                     (J, (X+1,Y+1,Z-1)), (J, (X-1,Y-1,Z-1)),\n",
    "                     (J, (X+1,Y-1,Z-1)), (J, (X-1,Y+1,Z-1))]\n",
    "\n",
    "        def bcc_condition(X, Y, Z):\n",
    "            dX = X % 2\n",
    "            dY = Y % 2\n",
    "            dZ = Z % 2\n",
    "            return (dX == dY) and (dX == dZ)\n",
    "\n",
    "        super(BCCLattice, self).__init__([Lx, Ly, Lz], bcc_hopping,\n",
    "                                         condition=bcc_condition, **kwdargs)\n",
    "        self.J = J\n",
    "        self.ω = ω"
   ]
  },
  {
   "cell_type": "code",
   "execution_count": null,
   "metadata": {},
   "outputs": [],
   "source": [
    "plot_lattice(BCCLattice(5)).view_init(elev=15., azim=60)"
   ]
  },
  {
   "cell_type": "markdown",
   "metadata": {},
   "source": [
    "## Examples"
   ]
  },
  {
   "cell_type": "markdown",
   "metadata": {},
   "source": [
    "### a) Evolution of a wavepacket in 1D"
   ]
  },
  {
   "cell_type": "markdown",
   "metadata": {},
   "source": [
    "We create a wavepacket with fixed width $\\sigma$ and momentum $k,$ on a 1D lattice and study its evolution. The initial state reads\n",
    "$$\\psi_r = \\frac{1}{\\sqrt{N}} \\exp\\left(-\\frac{(r-x_0)^2}{2\\sigma^2} - i k r\\right),\\;r=0,1,\\ldots,L-1.$$"
   ]
  },
  {
   "cell_type": "markdown",
   "metadata": {},
   "source": [
    "The evolution is performed with the hopping Hamiltonian, which in this case is the simple Schrödinger equation $(\\hbar=1)$\n",
    "$$i\\partial_t \\vec{\\psi} = \\bar{H} \\vec{\\psi}.$$"
   ]
  },
  {
   "cell_type": "code",
   "execution_count": null,
   "metadata": {},
   "outputs": [],
   "source": [
    "from seeq.evolution import evolve\n",
    "\n",
    "def test_wavepacket(L=100, x0=50, σ=5, k=1, t=50, steps=51):\n",
    "    #\n",
    "    # Positions and initial conditions\n",
    "    x = np.arange(L)\n",
    "    ψ0 = np.exp(-(x-x0)**2/(2*σ**2) - 1j*k*x)\n",
    "    ψ0 /= np.linalg.norm(ψ0)\n",
    "    #\n",
    "    # Model for a 1D lattice\n",
    "    H = Lattice1D(L, J=1.)\n",
    "    #\n",
    "    # Time intervals where the function is evaluated\n",
    "    times = np.linspace(0, t, steps)\n",
    "\n",
    "    ρt = np.array([np.abs(ψ)**2 for t, ψ\n",
    "                   in evolve(ψ0, H, times, constant=True)])\n",
    "    \n",
    "    fig, ax = plt.subplots(ncols=1, nrows=1, figsize=(6,4))\n",
    "    X, Y = np.meshgrid(x, times)\n",
    "\n",
    "    c = ax.pcolor(X, Y, ρt)\n",
    "    ax.set_title('Photon density')\n",
    "    ax.set_xlabel('$x$')\n",
    "    ax.set_ylabel('$t J$')\n",
    "    plt.colorbar(c)\n",
    "\n",
    "test_wavepacket()"
   ]
  },
  {
   "cell_type": "markdown",
   "metadata": {},
   "source": [
    "Notice how changing the momentum changes the speed. This is because we are working with a finite-bandwidth lattice that has a non-uniform group velocity."
   ]
  },
  {
   "cell_type": "code",
   "execution_count": null,
   "metadata": {},
   "outputs": [],
   "source": [
    "test_wavepacket(k=0.5)"
   ]
  }
 ],
 "metadata": {
  "kernelspec": {
   "display_name": "Python 3",
   "language": "python",
   "name": "python3"
  },
  "language_info": {
   "codemirror_mode": {
    "name": "ipython",
    "version": 3
   },
   "file_extension": ".py",
   "mimetype": "text/x-python",
   "name": "python",
   "nbconvert_exporter": "python",
   "pygments_lexer": "ipython3",
   "version": "3.7.3"
  }
 },
 "nbformat": 4,
 "nbformat_minor": 4
}

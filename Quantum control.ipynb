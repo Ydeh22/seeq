{
 "cells": [
  {
   "cell_type": "markdown",
   "metadata": {},
   "source": [
    "# Quantum control"
   ]
  },
  {
   "cell_type": "code",
   "execution_count": null,
   "metadata": {},
   "outputs": [],
   "source": [
    "# file: seeq/control.py\n",
    "import numpy as np\n",
    "from seeq.evolution import evolve\n",
    "from numbers import Number\n",
    "import scipy.optimize"
   ]
  },
  {
   "cell_type": "markdown",
   "metadata": {},
   "source": [
    "## Problem statement"
   ]
  },
  {
   "cell_type": "markdown",
   "metadata": {},
   "source": [
    "We are going to use the parameterized pulse approach to quantum control. Our model assumes a Hamiltonian of the form\n",
    "$$H = H_0 + g(t;x) H_1$$\n",
    "where $g(t)$ is a time-dependent control that will be eventually expanded in a basis of functions\n",
    "$$g(t;x) = \\sum_n x_n f_n(t),$$\n",
    "or which may have some other more complicated dependency, such as\n",
    "$$g(t;x) = x_0 \\cos(x_1 t + x_2).$$\n",
    "We will denote this fact by writing $H(t;x).$"
   ]
  },
  {
   "cell_type": "markdown",
   "metadata": {},
   "source": [
    "Our goal is to control $N$ states, that must suffer a unitary operation $U_g$ after a time $T.$ If the unitary evolution with $H(t;x)$ is given by $U(t),$ we will have\n",
    "$$U(T) |\\psi_n\\rangle \\simeq U |\\psi_n\\rangle,\\;n=1,\\ldots,N.$$\n",
    "The unitary operator satisfies the Schrödinger equation\n",
    "$$i \\frac{d}{dt} U(t;x) = H(t;x) U(t;x),$$\n",
    "with $U(0) = 1.$"
   ]
  },
  {
   "cell_type": "markdown",
   "metadata": {},
   "source": [
    "We measure the quality of our control by studying the \"fidelity\"\n",
    "$$F = \\frac{1}{N}\\mathrm{Re}\\left(\\sum_n \\langle\\psi_n | U_g^\\dagger U(T)|\\psi_n\\rangle\\right).$$\n",
    "When the protocol is exact, $F\\simeq 1.$ When the unitary is not exactly the one we want, or even when the phases are different, this quantity decreases towards 0."
   ]
  },
  {
   "cell_type": "markdown",
   "metadata": {},
   "source": [
    "## State and fidelity gradient"
   ]
  },
  {
   "cell_type": "markdown",
   "metadata": {},
   "source": [
    "The optimization of our cost function requires us to determine how the states respond to a change in the control. In other words $x \\to x + \\epsilon$ will lead to a modified univary evolution operator $U(t;x+\\epsilon),$ as explained in the appendices of [O. Romero-Isart and J. J. García-Ripoll\n",
    "Phys. Rev. A 76, 052304 (2007)](https://journals.aps.org/pra/abstract/10.1103/PhysRevA.76.052304). To first order in perturbation theory, this unitary operator will satisfy\n",
    "$$i \\frac{d}{dt}U(t;x+\\epsilon) = \\left[H(t) + \\epsilon \\frac{\\partial H}{\\partial x}\\right] U(t;x+\\epsilon).$$"
   ]
  },
  {
   "cell_type": "markdown",
   "metadata": {},
   "source": [
    "We introduce an interaction picture to compute the deviation $W$ induced by the perturbation\n",
    "$$U(t;x+\\epsilon) = U(t;x) W(t;x).$$\n",
    "The new operator satisfies\n",
    "$$i\\frac{d}{dt}W(t;x) = \\epsilon U(t;x)^\\dagger \\frac{\\partial H}{\\partial x}(t;x) U(t;x) W(t;x).$$"
   ]
  },
  {
   "cell_type": "markdown",
   "metadata": {},
   "source": [
    "Keeping terms to $\\mathcal{O}(\\epsilon^2),$\n",
    "$$W(t;x) = 1 - i \\epsilon \\int_{t_0}^t \\mathrm{d}\\tau\\, U(\\tau;x)^\\dagger \\frac{\\partial H}{\\partial x}(\\tau;x) U(\\tau;x) + \\mathcal{O}(\\epsilon^2).$$\n",
    "Or in the original operator, \n",
    "$$U(t;x+\\epsilon) = U(t;x) - i \\epsilon U(t;x) \\int_{t_0}^t \\mathrm{d}\\tau\\, U(\\tau;x)^\\dagger \\frac{\\partial H}{\\partial x}(\\tau;x) U(\\tau;x) + \\mathcal{O}(\\epsilon^2).$$"
   ]
  },
  {
   "cell_type": "markdown",
   "metadata": {},
   "source": [
    "This implies a formula for the derivative of the unitary operator\n",
    "$$\\frac{\\partial}{\\partial x} U(t;x) = - i \\epsilon U(t;x) \\int_{t_0}^t \\mathrm{d}\\tau\\, U(\\tau;x)^\\dagger \\frac{\\partial H}{\\partial x}(\\tau;x) U(\\tau;x) + \\mathcal{O}(\\epsilon^2).$$"
   ]
  },
  {
   "cell_type": "markdown",
   "metadata": {},
   "source": [
    "And from here it follows a formula for the gradient of the cost function\n",
    "$$\\frac{\\partial}{\\partial x}F = \\frac{1}{N}\\mathrm{Re}\\sum_n \\int_0^T \\left\\langle U_g^\\dagger U(T;x) U(\\tau;x)^\\dagger \\frac{\\partial H}{\\partial x}(\\tau;x) U(\\tau;x) \\right\\rangle_{\\psi_n}\\mathrm{d}\\tau.$$\n",
    "Note that all formulas extend trivially for any dimensionality of the variable $x.$"
   ]
  },
  {
   "cell_type": "markdown",
   "metadata": {},
   "source": [
    "## Algorithm"
   ]
  },
  {
   "cell_type": "markdown",
   "metadata": {},
   "source": [
    "In order to compute $\\nabla F$ for all variables $x_i,$ we are going to proceed as follows.\n",
    "\n",
    "1. Compute the backwards evolved states $|\\xi_n(0)\\rangle = U(T;x)^\\dagger U_g |\\psi_n\\rangle.$\n",
    "\n",
    "2. Solve the system of equations\n",
    "\\begin{eqnarray}\n",
    "i\\frac{d}{dt}|\\psi_n(t;x)\\rangle &=& H(t;x)|\\psi_n(t;x)\\rangle,\\\\\n",
    "i\\frac{d}{dt}|\\xi_n(t;x)\\rangle &=& H(t;x)|\\xi_n(t;x)\\rangle,\\\\\n",
    "\\frac{d}{dt}f_{n,i} &=& \\frac{1}{N}\\mathrm{Im}\\langle \\xi_n(t;x)|\\frac{\\partial H}{\\partial x_i}(t;x)|\\psi_n(t;x)\\rangle\n",
    "\\end{eqnarray}\n",
    "\n",
    "3. Estimate the gradient $$\\frac{\\partial F}{\\partial x_i} = \\sum_{n,i} f_{n,i}(T).$$"
   ]
  },
  {
   "cell_type": "markdown",
   "metadata": {},
   "source": [
    "The code below implements this version of parameterized control. In the simplest incantation, it requires a function `H(t,x,ψ)` that returns the product $H(t;x)\\psi.$ It also requires the target gate `Ug`, the states that are to be controlled as the columns of `ψ0` and a vector of times `T` used to solve the evolution. In this simple form, the algorithm does not compute $\\nabla F,$ and uses Scipy's algoritms for [global optimization](https://docs.scipy.org/doc/scipy/reference/optimize.html) to find the optimal control."
   ]
  },
  {
   "cell_type": "markdown",
   "metadata": {},
   "source": [
    "A more refined version of the algorithm is used when you pass the optional argument `dH(t,x,ψ)`, which is a function that returns a list of matrices, `[dH1, dH2,...]` with `dHn` being the result of computing $\\frac{\\partial H}{\\partial x_n}(t;x) \\psi.$ When `dH` is passed, the function uses the algorithm above to estimate $\\nabla F$ and use this to speed up Scipy's optimization algorithms."
   ]
  },
  {
   "cell_type": "markdown",
   "metadata": {},
   "source": [
    "The code from `parametric_control()` relies on the function `evolve()` from [SeeQ](Time evolution.ipynb). It defaults to the Chebyshev algorithm, which provides very accurate estimates of the exponential. However, even if this algorithm is accurate, the precision of the simulation depends on the time steps of the evolution. This information is provided, either by supplying a vector of times `T=[t0,t1,...,tN]`, or making `T` a real number and supplying the number of `steps`. You may check convergence of the control and simulations by doubling the number of steps and inspecting whether the results changed."
   ]
  },
  {
   "cell_type": "code",
   "execution_count": null,
   "metadata": {},
   "outputs": [],
   "source": [
    "# file: seeq/control.py\n",
    "\n",
    "def parametric_control(x0, H, ψ0, Ug, T, dH=None, check_gradient=False,\n",
    "                       steps=100, tol=1e-10, method='chebyshev',\n",
    "                       debug=False, optimizer='BFGS', **kwdargs):\n",
    "    \"\"\"Solve the quantum control problem for a Hamiltonian H acting on\n",
    "    a basis of states ψ.\n",
    "    \n",
    "    Arguments:\n",
    "    ----------\n",
    "    H      - Callable object H(t,x,ψ) that applies H(t,x) on ψ\n",
    "    ψ0     - N x d object with N wavefunctions\n",
    "    Ug     - Desired quantum operation\n",
    "    T      - Either a time or a vector of times\n",
    "    steps  - # time steps in the algorithm (if T is a number)\n",
    "    tol    - Optimization tolerance\n",
    "    method - Solution method for the time evolution\n",
    "    debug  - Return cost functions\n",
    "    optimizer - Method for scipy.optimize.minimize\n",
    "    \n",
    "    Output:\n",
    "    -------\n",
    "    x      - Optimal control\n",
    "    F      - Fidelity\"\"\"\n",
    "\n",
    "    if isinstance(T, Number):\n",
    "        times = np.linspace(0, T, steps)\n",
    "    else:\n",
    "        times = np.array(T)\n",
    "        steps = len(T)\n",
    "    ξT = Ug @ ψ0\n",
    "    \n",
    "    def bare_cost(x, verbose=False):\n",
    "        for t, ψ in evolve(ψ0, lambda t,ψ: H(t,x,ψ), times, method=method):\n",
    "            ψT = ψ\n",
    "        return -np.vdot(ξT, ψT).real\n",
    "\n",
    "    def cost_and_gradient(x, verbose=False):\n",
    "        Hx = lambda t, ψ: H(t, x, ψ)\n",
    "        ξ = list(ξt for t, ξt in evolve(ξT, Hx, times[-1::-1], method=method))\n",
    "        ξ.reverse()\n",
    "        f = np.zeros((len(x), len(times)))\n",
    "        for (i, ((t, ψt), ξt)) in enumerate(zip(evolve(ψ0, Hx, times, method=method), ξ)):\n",
    "            ψT = ψt\n",
    "            f[:,i] = np.array([np.vdot(ξt, dHi) for dHi in dH(t, x, ψt)]).imag\n",
    "        dFdx = np.array([-scipy.integrate.simps(fx, x=times) for fx in f])\n",
    "        return -np.vdot(ξT, ψT).real, dFdx\n",
    "    \n",
    "    if dH is None:\n",
    "        r = scipy.optimize.minimize(bare_cost, x0, tol=tol, method=optimizer)\n",
    "        fn = bare_cost\n",
    "    else:\n",
    "        if check_gradient:\n",
    "            _, dFdx = cost_and_gradient(x0)\n",
    "            dFdx2 = scipy.optimize.approx_fprime(x0, bare_cost, 1e-6)\n",
    "            err = np.max(np.abs(dFdx2 - dFdx))\n",
    "            print(f'max gradient error:   {err}')\n",
    "            print(f'Finite diff gradient: {dFdx2}')\n",
    "            print(f'Our estimate:         {dFdx}')\n",
    "        r = scipy.optimize.minimize(cost_and_gradient, x0, tol=tol, jac=True, method=optimizer)\n",
    "        fn = cost_and_gradient\n",
    "    if debug:\n",
    "        return r, fn\n",
    "    else:\n",
    "        return r"
   ]
  },
  {
   "cell_type": "markdown",
   "metadata": {},
   "source": [
    "## Example"
   ]
  },
  {
   "cell_type": "markdown",
   "metadata": {},
   "source": [
    "We now provide some examples of application of this algorithm with and without gradients."
   ]
  },
  {
   "cell_type": "markdown",
   "metadata": {},
   "source": [
    "### a) Qubit flip"
   ]
  },
  {
   "cell_type": "markdown",
   "metadata": {},
   "source": [
    "This is a simple control. We have a Hamiltonian\n",
    "$$H = \\Omega \\sigma_y$$\n",
    "and we want to implement a spin flip\n",
    "$$U = \\exp(-i (\\pi/2) \\sigma_y) = -i \\sigma_y = \\left(\\begin{matrix} 0 & -1 \\\\ 1 & 0 \\end{matrix}\\right).$$\n",
    "The solution to achieve this in time $T$ is to use $\\Omega = \\pi / 2T.$"
   ]
  },
  {
   "cell_type": "code",
   "execution_count": null,
   "metadata": {},
   "outputs": [],
   "source": [
    "%matplotlib inline\n",
    "import matplotlib.pyplot as plt\n",
    "\n",
    "def test_qubit_flip():\n",
    "    # Operators that we use in the Hamiltonian\n",
    "    σz = np.diag([1., -1.])\n",
    "    σy = np.array([[0., -1.j],[1.j, 0.]])\n",
    "    # Desired gate\n",
    "    Ug = -1j * σy\n",
    "    # Desired time to execute the gate\n",
    "    T = 1.0\n",
    "    # Some initial guess of the control\n",
    "    x0 = [1.0]\n",
    "    # We want to control all states\n",
    "    ψ0 = np.eye(2)\n",
    "    # A function that implements the control\n",
    "    H = lambda t, x, ψ: x * (σy @ ψ)\n",
    "    # Execute\n",
    "    r = parametric_control([1.0], H, ψ0, Ug, T=1.0, method='eig')\n",
    "    # Plot the ouptut\n",
    "    sz = np.array([[t, obs[0,0], obs[0,1]]\n",
    "                   for t, obs in evolve(ψ0, r.x * σy, np.linspace(0, T, 31),\n",
    "                                        observables=[σz], method='eig')])\n",
    "    fig, (ax1, ax2) = plt.subplots(ncols=2, figsize=(12,4))\n",
    "    ax1.plot(sz[:,0], sz[:,1], '-', label='$\\\\uparrow$')\n",
    "    ax1.plot(sz[:,0], sz[:,2], '--', label='$\\\\downarrow$')\n",
    "    ax2.plot(sz[:,0], sz[:,0]*0+r.x, '--', label='control')\n",
    "    ax1.legend()\n",
    "    ax1.set_xlabel('$t$')\n",
    "    ax1.set_ylabel('$\\\\langle\\\\sigma_z\\\\rangle$')\n",
    "    ax2.set_xlabel('$t$')\n",
    "    ax2.set_ylabel('$x(t)$')\n",
    "\n",
    "test_qubit_flip()"
   ]
  },
  {
   "cell_type": "markdown",
   "metadata": {},
   "source": [
    "To illustrate the role of derivatives, we introduce an extra degree of difficulty, by incorporating a time-dependent control with a constant amplitude `x`, which we optimize\n",
    "$$H(t,x) = x \\cos(t) \\sigma_y.$$\n",
    "In this example, we use the estimate of the derivative of $H$ to speed up the optimization\n",
    "$$\\frac{\\partial H}{\\partial x} = \\cos(t)\\sigma_y.$$\n",
    "This derivative is created in the function `dH(t,x,ψ)`."
   ]
  },
  {
   "cell_type": "code",
   "execution_count": null,
   "metadata": {},
   "outputs": [],
   "source": [
    "%matplotlib inline\n",
    "import matplotlib.pyplot as plt\n",
    "\n",
    "def test_qubit_flip():\n",
    "    # Operators that we use in the Hamiltonian\n",
    "    π = np.pi\n",
    "    σz = np.diag([1., -1.])\n",
    "    σy = np.array([[0., -1.j],[1.j, 0.]])\n",
    "    # Desired gate\n",
    "    Ug = -1j * σy\n",
    "    # Desired time to execute the gate\n",
    "    T = 1.0\n",
    "    # Some initial guess of the control\n",
    "    x0 = [1.0]\n",
    "    # We want to control all states\n",
    "    ψ0 = np.eye(2)\n",
    "    # A function that implements the control\n",
    "    H = lambda t, x, ψ: x[0] * np.cos(t) * (σy @ ψ)\n",
    "    dH = lambda t, x, ψ: [np.cos(t) * (σy @ ψ)]\n",
    "    # Execute\n",
    "    r = parametric_control([1.0], H, ψ0, Ug, T=1.0, dH=dH, check_gradient=True, method='eig')\n",
    "    xopt = r.x\n",
    "    # Plot the output\n",
    "    sz = np.array([[t, obs[0,0], obs[0,1]]\n",
    "                   for t, obs in evolve(ψ0, lambda t, ψ: H(t, xopt, ψ), np.linspace(0, T, 31),\n",
    "                                        observables=[σz], method='eig')])\n",
    "    fig, (ax1, ax2) = plt.subplots(ncols=2, figsize=(12,4))\n",
    "    t = sz[:,0]\n",
    "    ax1.plot(t, sz[:,1], '-', label='$\\\\uparrow$')\n",
    "    ax1.plot(t, sz[:,2], '--', label='$\\\\downarrow$')\n",
    "    ax2.plot(t, xopt*np.cos(t), '--', label='control')\n",
    "    ax1.legend()\n",
    "    ax1.set_xlabel('$t$')\n",
    "    ax1.set_ylabel('$\\\\langle\\\\sigma_z\\\\rangle$')\n",
    "    ax2.set_xlabel('$t$')\n",
    "    ax2.set_ylabel('$x(t)$')\n",
    "\n",
    "test_qubit_flip()"
   ]
  },
  {
   "cell_type": "markdown",
   "metadata": {},
   "source": [
    "## b) Qubit drive"
   ]
  },
  {
   "cell_type": "markdown",
   "metadata": {},
   "source": [
    "We want to excite a qubit that has a fixed gap $\\Delta=1$ using a model of the form\n",
    "$$H(t) = \\frac{\\Delta}{2}\\sigma^z + \\epsilon \\cos(x t) \\sigma^y.$$\n",
    "If we apply an interaction picture,\n",
    "$$\\psi(t) = e^{-i\\Delta \\sigma^z t /2} \\xi(t) = U_0(t)\\xi(t),$$\n",
    "the new state evolves according to the Schrödinger equation\n",
    "$$i \\partial_t \\xi = U_0(t)^\\dagger H(t) U_0(t) \\xi(t).$$\n",
    "In other words\n",
    "$$i \\partial_t \\xi = \\frac{\\epsilon}{2} (e^{i x t} + e^{-i x t})(-i\\sigma^+ e^{i\\Delta t} + i\\sigma^- e^{-i\\Delta t}).$$\n",
    "If we apply a rotating wave approximation whereby $x\\simeq \\Delta$\n",
    "$$i \\partial_t \\xi \\simeq \\frac{\\epsilon}{2} (-i\\sigma^+  + i\\sigma^-) = \\frac{\\epsilon}{2} \\sigma^y,$$\n",
    "which achieves a total rotation in a time $T=\\pi/\\epsilon.$"
   ]
  },
  {
   "cell_type": "code",
   "execution_count": null,
   "metadata": {},
   "outputs": [],
   "source": [
    "%matplotlib inline\n",
    "import matplotlib.pyplot as plt\n",
    "import math\n",
    "\n",
    "def test_qubit_drive():\n",
    "    # Operators that we use in the Hamiltonian\n",
    "    π = np.pi\n",
    "    σz = np.diag([1., -1.])\n",
    "    σx = np.array([[0, 1.0],[1.0, 0.]])\n",
    "    σy = np.array([[0., -1.j],[1.j, 0.]])\n",
    "    # Desired time to execute the gate\n",
    "    ϵ = 0.15\n",
    "    T = π/ϵ\n",
    "    steps = 300\n",
    "    times = np.linspace(0, T, steps)\n",
    "    # Desired gate\n",
    "    Ug = -1j * σy @ scipy.linalg.expm(-1j * T * σz)\n",
    "    # Some initial guess of the control\n",
    "    x0 = [1.13]\n",
    "    # We want to control all states\n",
    "    ψ0 = np.eye(2)\n",
    "    # A function that implements the control\n",
    "    H = lambda t, x, ψ: 0.5*(σz @ ψ) + ϵ * math.cos(x[0] * t) * (σy @ ψ)\n",
    "    dH = lambda t, x, ψ: [-ϵ * t * math.sin(x[0] * t) * (σy @ ψ)]\n",
    "    # Execute\n",
    "    r, cost = parametric_control(x0, H, ψ0, Ug, dH=dH, T=times, debug=True, method='eig')\n",
    "    xopt = r.x\n",
    "    # Plot the output\n",
    "    sz = np.array([[obs[0,0], obs[0,1]]\n",
    "                   for _, obs in evolve(ψ0, lambda t, ψ: H(t, xopt, ψ), times, observables=[σz], method='eig')])\n",
    "    fig, (ax1, ax2) = plt.subplots(ncols=2, figsize=(12,4))\n",
    "    ax1.plot(times, sz[:,0], '-', label='$\\\\uparrow$')\n",
    "    ax1.plot(times, sz[:,1], '--', label='$\\\\downarrow$')\n",
    "    ax1.legend()\n",
    "    ax1.set_xlabel('$t$')\n",
    "    ax1.set_ylabel('$\\\\langle\\\\sigma_z\\\\rangle$')\n",
    "    xrange = np.linspace(0, 2, 41)\n",
    "    costs = np.array([cost([x])[0] for x in xrange])\n",
    "    ax2.plot(xrange, costs)\n",
    "    ax2.plot([xopt, xopt], [np.min(costs), np.max(costs)], 'r-.')\n",
    "    ax2.plot(xrange, r.fun + 0*xrange, 'r-.')\n",
    "    ax2.set_xlabel('$x/\\\\pi$')\n",
    "    ax2.set_ylabel('cost')\n",
    "\n",
    "test_qubit_drive()"
   ]
  },
  {
   "cell_type": "markdown",
   "metadata": {},
   "source": [
    "## Tests"
   ]
  },
  {
   "cell_type": "markdown",
   "metadata": {},
   "source": [
    "The following code is only required for the automated testing of the library."
   ]
  },
  {
   "cell_type": "code",
   "execution_count": null,
   "metadata": {},
   "outputs": [],
   "source": [
    "# file: seeq/test/test_parametric_control.py\n",
    "\n",
    "from seeq.control import *"
   ]
  },
  {
   "cell_type": "code",
   "execution_count": null,
   "metadata": {},
   "outputs": [],
   "source": [
    "# file: seeq/test/test_parametric_control.py\n",
    "\n",
    "import unittest\n",
    "\n",
    "class TestQControl(unittest.TestCase):\n",
    "    π = np.pi\n",
    "    σz = np.array([[1., 0.],[0., -1.]])\n",
    "    σx = np.array([[0., 1.],[1., 0.]])\n",
    "    σy = np.array([[0., -1.j],[1.j, 0.]])\n",
    "    ψ0 = np.eye(2)\n",
    "\n",
    "    def test_nothing(self):\n",
    "        \"\"\"For a qubit to remain the same, we do nothing.\"\"\"\n",
    "        Ug = np.eye(2)\n",
    "        H = lambda t, x, ψ: x * (self.σx @ ψ)\n",
    "        r = parametric_control([1.0], H, self.ψ0, Ug, T=1.0, tol=1e-8, method='expm')\n",
    "        self.assertEqual(len(r.x), 1)\n",
    "        self.assertAlmostEqual(r.x[0], 0.0, delta=1e-7)\n",
    "\n",
    "    def test_nothing2(self):\n",
    "        \"\"\"For a qubit to remain the same, we cancel the frequency.\"\"\"\n",
    "        Ug = np.eye(2)\n",
    "        H = lambda t, x, ψ: x[0] * (self.σx @ ψ) + (1.0 - x[1]) * (self.σz @ ψ)\n",
    "        r = parametric_control([1.0, 0.1], H, self.ψ0, Ug, T=1.0, tol=1e-8, method='expm')\n",
    "        self.assertEqual(len(r.x), 2)\n",
    "        self.assertAlmostEqual(r.x[0], 0.0, delta=1e-7)\n",
    "        self.assertAlmostEqual(r.x[1], 1.0, delta=1e-7)\n",
    "\n",
    "    def test_qubit_flip(self):\n",
    "        \"\"\"Construct a π/2 pulse.\"\"\"\n",
    "        Ug = -1j*self.σy\n",
    "        H = lambda t, x, ψ: (x * self.σy) @ ψ\n",
    "        r = parametric_control([1.0], H, self.ψ0, Ug, T=1.0, tol=1e-9, method='expm')\n",
    "        self.assertEqual(len(r.x), 1)\n",
    "        self.assertAlmostEqual(r.x[0], self.π/2., delta=1e-7)\n",
    "\n",
    "    def test_nothing_derivative(self):\n",
    "        \"\"\"For a qubit to remain the same, we do nothing (with gradients).\"\"\"\n",
    "        Ug = np.eye(2)\n",
    "        H = lambda t, x, ψ: x * (self.σx @ ψ)\n",
    "        dH = lambda t, x, ψ: [self.σx @ ψ]\n",
    "        r = parametric_control([1.0], H, self.ψ0, Ug, T=1.0, dH=dH, tol=1e-8, method='expm')\n",
    "        self.assertEqual(len(r.x), 1)\n",
    "        self.assertAlmostEqual(r.x[0], 0.0, delta=1e-7)\n",
    "\n",
    "    def test_qubit_flip_derivative(self):\n",
    "        \"\"\"Construct a π/2 pulse (with gradients).\"\"\"\n",
    "        Ug = -1j*self.σy\n",
    "        H = lambda t, x, ψ: (x * self.σy) @ ψ\n",
    "        dH = lambda t, x, ψ: [self.σy @ ψ]\n",
    "        r = parametric_control([1.0], H, self.ψ0, Ug, T=1.0, dH=dH, tol=1e-9, method='expm')\n",
    "        self.assertEqual(len(r.x), 1)\n",
    "        self.assertAlmostEqual(r.x[0], self.π/2., delta=1e-7)"
   ]
  },
  {
   "cell_type": "code",
   "execution_count": null,
   "metadata": {},
   "outputs": [],
   "source": [
    "suite1 = unittest.TestLoader().loadTestsFromNames(['__main__.TestQControl'])\n",
    "unittest.TextTestRunner(verbosity=2).run(suite1);"
   ]
  }
 ],
 "metadata": {
  "kernelspec": {
   "display_name": "Python 3",
   "language": "python",
   "name": "python3"
  },
  "language_info": {
   "codemirror_mode": {
    "name": "ipython",
    "version": 3
   },
   "file_extension": ".py",
   "mimetype": "text/x-python",
   "name": "python",
   "nbconvert_exporter": "python",
   "pygments_lexer": "ipython3",
   "version": "3.7.3"
  }
 },
 "nbformat": 4,
 "nbformat_minor": 4
}
